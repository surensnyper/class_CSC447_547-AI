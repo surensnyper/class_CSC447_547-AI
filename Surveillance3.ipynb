{
  "nbformat": 4,
  "nbformat_minor": 0,
  "metadata": {
    "colab": {
      "name": "Surveillance3.ipynb",
      "provenance": [],
      "collapsed_sections": [
        "Aq76ZAUaRbLT"
      ],
      "machine_shape": "hm",
      "authorship_tag": "ABX9TyMeanKVsMEF1qrdhR5aNue3",
      "include_colab_link": true
    },
    "kernelspec": {
      "name": "python3",
      "display_name": "Python 3"
    },
    "language_info": {
      "name": "python"
    },
    "accelerator": "GPU",
    "gpuClass": "standard"
  },
  "cells": [
    {
      "cell_type": "markdown",
      "metadata": {
        "id": "view-in-github",
        "colab_type": "text"
      },
      "source": [
        "<a href=\"https://colab.research.google.com/github/surensnyper/class_CSC447_547-AI/blob/main/Surveillance3.ipynb\" target=\"_parent\"><img src=\"https://colab.research.google.com/assets/colab-badge.svg\" alt=\"Open In Colab\"/></a>"
      ]
    },
    {
      "cell_type": "markdown",
      "source": [
        "1. https://github.com/ShreyasArthur/AbnormalEventDetection\n",
        "  - Implementation based no Classic Python\n",
        "2. https://github.com/rutviz/anomaly-detection\n",
        "  - anomaly, nomal.text file\n",
        "3. https://github.com/GaneshVShinde/Anomaly-Detection-and-classification-in-surveillance-videos/tree/1d2c07eee58286111013493eafe8cca91b50c1b9 \n",
        "  - Implementation based no Colab\n",
        "4. https://www.dropbox.com/sh/75v5ehq4cdg5g5g/AABvnJSwZI7zXb8_myBA0CLHa?dl=0\n",
        "  - Dataset"
      ],
      "metadata": {
        "id": "5DLO5dk3_GN2"
      }
    },
    {
      "cell_type": "markdown",
      "source": [
        "### 3. @GaneshVShinde\n",
        "- Some errors in the code"
      ],
      "metadata": {
        "id": "Aq76ZAUaRbLT"
      }
    },
    {
      "cell_type": "code",
      "execution_count": null,
      "metadata": {
        "colab": {
          "base_uri": "https://localhost:8080/"
        },
        "id": "soiOjR5M_EHm",
        "outputId": "0dc97fa1-7cc5-412e-aa62-d1f373f6bcef"
      },
      "outputs": [
        {
          "output_type": "stream",
          "name": "stdout",
          "text": [
            "Cloning into 'Anomaly-Detection-and-classification-in-surveillance-videos'...\n",
            "remote: Enumerating objects: 4333, done.\u001b[K\n",
            "remote: Counting objects: 100% (3/3), done.\u001b[K\n",
            "remote: Compressing objects: 100% (3/3), done.\u001b[K\n",
            "remote: Total 4333 (delta 0), reused 3 (delta 0), pack-reused 4330\u001b[K\n",
            "Receiving objects: 100% (4333/4333), 358.68 MiB | 39.65 MiB/s, done.\n",
            "Resolving deltas: 100% (733/733), done.\n",
            "Checking out files: 100% (984/984), done.\n"
          ]
        }
      ],
      "source": [
        "!git clone https://github.com/GaneshVShinde/Anomaly-Detection-and-classification-in-surveillance-videos"
      ]
    },
    {
      "cell_type": "code",
      "source": [
        "!python /content/Anomaly-Detection-and-classification-in-surveillance-videos/Data_loader.py"
      ],
      "metadata": {
        "id": "enL8KH8sR5Ak"
      },
      "execution_count": null,
      "outputs": []
    },
    {
      "cell_type": "code",
      "source": [
        "!python /content/Anomaly-Detection-and-classification-in-surveillance-videos/video_utils.py"
      ],
      "metadata": {
        "id": "nYvZy1X_R7z8"
      },
      "execution_count": null,
      "outputs": []
    },
    {
      "cell_type": "code",
      "source": [
        "import pickle\n",
        "import numpy as np\n",
        "import matplotlib.pyplot as plt\n",
        "import os"
      ],
      "metadata": {
        "id": "alhiH03rSAu7"
      },
      "execution_count": null,
      "outputs": []
    },
    {
      "cell_type": "code",
      "source": [
        "import tensorflow as tf\n"
      ],
      "metadata": {
        "colab": {
          "base_uri": "https://localhost:8080/"
        },
        "id": "DUDCBYIwSGJb",
        "outputId": "74b06e72-cc20-4536-f3ea-fed59d091720"
      },
      "execution_count": null,
      "outputs": [
        {
          "output_type": "stream",
          "name": "stderr",
          "text": [
            "/usr/local/lib/python3.7/dist-packages/tensorflow/python/framework/dtypes.py:526: FutureWarning: Passing (type, 1) or '1type' as a synonym of type is deprecated; in a future version of numpy, it will be understood as (type, (1,)) / '(1,)type'.\n",
            "  _np_qint8 = np.dtype([(\"qint8\", np.int8, 1)])\n",
            "/usr/local/lib/python3.7/dist-packages/tensorflow/python/framework/dtypes.py:527: FutureWarning: Passing (type, 1) or '1type' as a synonym of type is deprecated; in a future version of numpy, it will be understood as (type, (1,)) / '(1,)type'.\n",
            "  _np_quint8 = np.dtype([(\"quint8\", np.uint8, 1)])\n",
            "/usr/local/lib/python3.7/dist-packages/tensorflow/python/framework/dtypes.py:528: FutureWarning: Passing (type, 1) or '1type' as a synonym of type is deprecated; in a future version of numpy, it will be understood as (type, (1,)) / '(1,)type'.\n",
            "  _np_qint16 = np.dtype([(\"qint16\", np.int16, 1)])\n",
            "/usr/local/lib/python3.7/dist-packages/tensorflow/python/framework/dtypes.py:529: FutureWarning: Passing (type, 1) or '1type' as a synonym of type is deprecated; in a future version of numpy, it will be understood as (type, (1,)) / '(1,)type'.\n",
            "  _np_quint16 = np.dtype([(\"quint16\", np.uint16, 1)])\n",
            "/usr/local/lib/python3.7/dist-packages/tensorflow/python/framework/dtypes.py:530: FutureWarning: Passing (type, 1) or '1type' as a synonym of type is deprecated; in a future version of numpy, it will be understood as (type, (1,)) / '(1,)type'.\n",
            "  _np_qint32 = np.dtype([(\"qint32\", np.int32, 1)])\n",
            "/usr/local/lib/python3.7/dist-packages/tensorflow/python/framework/dtypes.py:535: FutureWarning: Passing (type, 1) or '1type' as a synonym of type is deprecated; in a future version of numpy, it will be understood as (type, (1,)) / '(1,)type'.\n",
            "  np_resource = np.dtype([(\"resource\", np.ubyte, 1)])\n"
          ]
        }
      ]
    },
    {
      "cell_type": "code",
      "source": [
        "fl=open(\"/content/Anomaly-Detection-and-classification-in-surveillance-videos/Data_set.pkl\",'rb')\n",
        "data=pickle.load(fl)"
      ],
      "metadata": {
        "id": "Yq3hLEf6SSny"
      },
      "execution_count": null,
      "outputs": []
    },
    {
      "cell_type": "code",
      "source": [
        "data.keys()\n"
      ],
      "metadata": {
        "colab": {
          "base_uri": "https://localhost:8080/"
        },
        "id": "NZJ7GYjYSTy6",
        "outputId": "a9eb58f0-ea0a-4fee-8309-90dea2aa0ebc"
      },
      "execution_count": null,
      "outputs": [
        {
          "output_type": "execute_result",
          "data": {
            "text/plain": [
              "dict_keys(['File_location', 'Anomaly_type', 'anomaly_frames'])"
            ]
          },
          "metadata": {},
          "execution_count": 6
        }
      ]
    },
    {
      "cell_type": "code",
      "source": [
        "frames=[]\n",
        "class_type=[]\n",
        "path=\"/content/Anomaly-Detection-and-classification-in-surveillance-videos/out\""
      ],
      "metadata": {
        "id": "oCrXYV1mSX4C"
      },
      "execution_count": null,
      "outputs": []
    },
    {
      "cell_type": "code",
      "source": [
        "for i,frm in enumerate(data['anomaly_frames']):\n",
        "    if len(frm) != 0:\n",
        "        vid_path=os.path.join(path,data['File_location'][i] )\n",
        "        with open(vid_path,'r') as f:\n",
        "            lines = f.read().splitlines()\n",
        "        for frm_no in data['anomaly_frames'][i]:\n",
        "            frames.append(np.float32(lines[frm_no].split()))\n",
        "            class_type.append(data['Anomaly_type'])"
      ],
      "metadata": {
        "id": "p3RZbWMSSZOi"
      },
      "execution_count": null,
      "outputs": []
    },
    {
      "cell_type": "code",
      "source": [
        "len(frames),len(class_type)\n"
      ],
      "metadata": {
        "colab": {
          "base_uri": "https://localhost:8080/"
        },
        "id": "nqVmxXG5ScsE",
        "outputId": "bd705833-adf7-41b0-8f53-3b6a0dfa4b08"
      },
      "execution_count": null,
      "outputs": [
        {
          "output_type": "execute_result",
          "data": {
            "text/plain": [
              "(734, 734)"
            ]
          },
          "metadata": {},
          "execution_count": 9
        }
      ]
    },
    {
      "cell_type": "code",
      "source": [
        "frames=np.array(frames)\n",
        "class_type =np.array(class_type)\n",
        "class_type = class_type.flatten()"
      ],
      "metadata": {
        "id": "cOWUmCwlTeVL"
      },
      "execution_count": null,
      "outputs": []
    },
    {
      "cell_type": "code",
      "source": [
        "!pip uninstall tensorflow"
      ],
      "metadata": {
        "colab": {
          "base_uri": "https://localhost:8080/"
        },
        "id": "ZqT3tj5oT2W7",
        "outputId": "731acd2b-e98f-4cf8-ad35-e650cbf36be5"
      },
      "execution_count": null,
      "outputs": [
        {
          "output_type": "stream",
          "name": "stdout",
          "text": [
            "Found existing installation: tensorflow 2.8.2+zzzcolab20220527125636\n",
            "Uninstalling tensorflow-2.8.2+zzzcolab20220527125636:\n",
            "  Would remove:\n",
            "    /usr/local/bin/estimator_ckpt_converter\n",
            "    /usr/local/bin/import_pb_to_tensorboard\n",
            "    /usr/local/bin/saved_model_cli\n",
            "    /usr/local/bin/tensorboard\n",
            "    /usr/local/bin/tf_upgrade_v2\n",
            "    /usr/local/bin/tflite_convert\n",
            "    /usr/local/bin/toco\n",
            "    /usr/local/bin/toco_from_protos\n",
            "    /usr/local/lib/python3.7/dist-packages/tensorflow-2.8.2+zzzcolab20220527125636.dist-info/*\n",
            "    /usr/local/lib/python3.7/dist-packages/tensorflow/*\n",
            "Proceed (y/n)? y\n",
            "  Successfully uninstalled tensorflow-2.8.2+zzzcolab20220527125636\n"
          ]
        }
      ]
    },
    {
      "cell_type": "code",
      "source": [
        "!pip install tensorflow==1.13.2\n",
        "# !pip install tensorflow==1.14\n",
        "# tensorflow.__version__"
      ],
      "metadata": {
        "colab": {
          "base_uri": "https://localhost:8080/"
        },
        "id": "ooHA2yR5U5-C",
        "outputId": "32bac5fd-63d7-45d0-9fcb-46635f1c8621"
      },
      "execution_count": null,
      "outputs": [
        {
          "output_type": "stream",
          "name": "stdout",
          "text": [
            "Looking in indexes: https://pypi.org/simple, https://us-python.pkg.dev/colab-wheels/public/simple/\n",
            "Requirement already satisfied: tensorflow==1.13.2 in /usr/local/lib/python3.7/dist-packages (1.13.2)\n",
            "Requirement already satisfied: keras-preprocessing>=1.0.5 in /usr/local/lib/python3.7/dist-packages (from tensorflow==1.13.2) (1.1.2)\n",
            "Requirement already satisfied: tensorflow-estimator<1.14.0rc0,>=1.13.0 in /usr/local/lib/python3.7/dist-packages (from tensorflow==1.13.2) (1.13.0)\n",
            "Requirement already satisfied: absl-py>=0.1.6 in /usr/local/lib/python3.7/dist-packages (from tensorflow==1.13.2) (1.1.0)\n",
            "Requirement already satisfied: protobuf>=3.6.1 in /usr/local/lib/python3.7/dist-packages (from tensorflow==1.13.2) (3.17.3)\n",
            "Requirement already satisfied: six>=1.10.0 in /usr/local/lib/python3.7/dist-packages (from tensorflow==1.13.2) (1.15.0)\n",
            "Requirement already satisfied: termcolor>=1.1.0 in /usr/local/lib/python3.7/dist-packages (from tensorflow==1.13.2) (1.1.0)\n",
            "Requirement already satisfied: tensorboard<1.14.0,>=1.13.0 in /usr/local/lib/python3.7/dist-packages (from tensorflow==1.13.2) (1.13.1)\n",
            "Requirement already satisfied: grpcio>=1.8.6 in /usr/local/lib/python3.7/dist-packages (from tensorflow==1.13.2) (1.46.3)\n",
            "Requirement already satisfied: numpy<2.0,>=1.16.0 in /usr/local/lib/python3.7/dist-packages (from tensorflow==1.13.2) (1.21.6)\n",
            "Requirement already satisfied: keras-applications>=1.0.6 in /usr/local/lib/python3.7/dist-packages (from tensorflow==1.13.2) (1.0.8)\n",
            "Requirement already satisfied: gast>=0.2.0 in /usr/local/lib/python3.7/dist-packages (from tensorflow==1.13.2) (0.5.3)\n",
            "Requirement already satisfied: astor>=0.6.0 in /usr/local/lib/python3.7/dist-packages (from tensorflow==1.13.2) (0.8.1)\n",
            "Requirement already satisfied: wheel>=0.26 in /usr/local/lib/python3.7/dist-packages (from tensorflow==1.13.2) (0.37.1)\n",
            "Requirement already satisfied: h5py in /usr/local/lib/python3.7/dist-packages (from keras-applications>=1.0.6->tensorflow==1.13.2) (3.1.0)\n",
            "Requirement already satisfied: markdown>=2.6.8 in /usr/local/lib/python3.7/dist-packages (from tensorboard<1.14.0,>=1.13.0->tensorflow==1.13.2) (3.3.7)\n",
            "Requirement already satisfied: werkzeug>=0.11.15 in /usr/local/lib/python3.7/dist-packages (from tensorboard<1.14.0,>=1.13.0->tensorflow==1.13.2) (1.0.1)\n",
            "Requirement already satisfied: importlib-metadata>=4.4 in /usr/local/lib/python3.7/dist-packages (from markdown>=2.6.8->tensorboard<1.14.0,>=1.13.0->tensorflow==1.13.2) (4.11.4)\n",
            "Requirement already satisfied: typing-extensions>=3.6.4 in /usr/local/lib/python3.7/dist-packages (from importlib-metadata>=4.4->markdown>=2.6.8->tensorboard<1.14.0,>=1.13.0->tensorflow==1.13.2) (4.1.1)\n",
            "Requirement already satisfied: zipp>=0.5 in /usr/local/lib/python3.7/dist-packages (from importlib-metadata>=4.4->markdown>=2.6.8->tensorboard<1.14.0,>=1.13.0->tensorflow==1.13.2) (3.8.0)\n",
            "Requirement already satisfied: mock>=2.0.0 in /usr/local/lib/python3.7/dist-packages (from tensorflow-estimator<1.14.0rc0,>=1.13.0->tensorflow==1.13.2) (4.0.3)\n",
            "Requirement already satisfied: cached-property in /usr/local/lib/python3.7/dist-packages (from h5py->keras-applications>=1.0.6->tensorflow==1.13.2) (1.5.2)\n"
          ]
        }
      ]
    },
    {
      "cell_type": "code",
      "source": [
        "from tensorflow.contrib.layers import fully_connected,dropout"
      ],
      "metadata": {
        "id": "ax3bhl7ITft6"
      },
      "execution_count": null,
      "outputs": []
    },
    {
      "cell_type": "code",
      "source": [
        "n_inputs = 4096\n",
        "n_hidden1 = 512\n",
        "n_hidden2 = 100\n",
        "n_outputs = 2"
      ],
      "metadata": {
        "id": "xCgH6nvITgoz"
      },
      "execution_count": null,
      "outputs": []
    },
    {
      "cell_type": "code",
      "source": [
        "X=tf.placeholder(tf.float32,shape=(None,n_inputs)\n",
        "                ,name='X')\n",
        "Y=tf.placeholder(tf.int64,shape=(None),name='Y')"
      ],
      "metadata": {
        "id": "a8WZnL5eVW9T"
      },
      "execution_count": null,
      "outputs": []
    },
    {
      "cell_type": "code",
      "source": [
        "with tf.name_scope(\"dnn\"):\n",
        "    hidden1 = fully_connected(X,n_hidden1,scope=\"hidden1\")\n",
        "    \n",
        "    hidden1_drop=dropout(hidden1,keep_prob=0.4)\n",
        "    \n",
        "    hidden2 = fully_connected(hidden1_drop,n_hidden1,scope=\"hidden2\")\n",
        "    \n",
        "    hidden2_drop=dropout(hidden2,keep_prob=0.6)\n",
        "    \n",
        "    logits=fully_connected(hidden2_drop,n_outputs,scope=\"output\",activation_fn=None)"
      ],
      "metadata": {
        "colab": {
          "base_uri": "https://localhost:8080/"
        },
        "id": "GAV6g0_CVYCb",
        "outputId": "f971d0d7-8673-4f01-8d7b-3d1acacd094a"
      },
      "execution_count": null,
      "outputs": [
        {
          "output_type": "stream",
          "name": "stdout",
          "text": [
            "WARNING:tensorflow:From /usr/local/lib/python3.7/dist-packages/tensorflow/python/framework/op_def_library.py:263: colocate_with (from tensorflow.python.framework.ops) is deprecated and will be removed in a future version.\n",
            "Instructions for updating:\n",
            "Colocations handled automatically by placer.\n",
            "WARNING:tensorflow:From /usr/local/lib/python3.7/dist-packages/tensorflow/python/keras/layers/core.py:143: calling dropout (from tensorflow.python.ops.nn_ops) with keep_prob is deprecated and will be removed in a future version.\n",
            "Instructions for updating:\n",
            "Please use `rate` instead of `keep_prob`. Rate should be set to `rate = 1 - keep_prob`.\n"
          ]
        }
      ]
    },
    {
      "cell_type": "code",
      "source": [
        "with tf.name_scope(\"loss\"):\n",
        "    xentropy = tf.nn.sparse_softmax_cross_entropy_with_logits(\n",
        "        labels=Y, logits=logits)\n",
        "    loss = tf.reduce_mean(xentropy, name=\"loss\")"
      ],
      "metadata": {
        "id": "D--LUv71VZXr"
      },
      "execution_count": null,
      "outputs": []
    },
    {
      "cell_type": "code",
      "source": [
        "learning_rate = 0.01\n",
        "with tf.name_scope(\"train\"):\n",
        "    optimizer = tf.train.AdamOptimizer(learning_rate)\n",
        "    training_op = optimizer.minimize(loss)"
      ],
      "metadata": {
        "id": "eiFH7EkzVbs7"
      },
      "execution_count": null,
      "outputs": []
    },
    {
      "cell_type": "code",
      "source": [
        "with tf.name_scope(\"blaa\"):\n",
        "    correct = tf.nn.in_top_k(logits, Y, 1)\n",
        "    accuracy = tf.reduce_mean(tf.cast(correct, tf.float32))"
      ],
      "metadata": {
        "id": "N8YC945KVcpz"
      },
      "execution_count": null,
      "outputs": []
    },
    {
      "cell_type": "code",
      "source": [
        "n_epochs = 100\n",
        "batch_size = 50\n",
        "batch_training=50\n",
        "accTr=[]\n",
        "accTst=[]\n",
        "saver = tf.train.Saver()"
      ],
      "metadata": {
        "id": "KvhNGfraVduL"
      },
      "execution_count": null,
      "outputs": []
    },
    {
      "cell_type": "code",
      "source": [
        "init = tf.global_variables_initializer()\n",
        "sess = tf.Session()\n",
        "sess.run(init)"
      ],
      "metadata": {
        "id": "vKnA0ahqVjNr"
      },
      "execution_count": null,
      "outputs": []
    },
    {
      "cell_type": "code",
      "source": [
        "for epoch in range(n_epochs):\n",
        "    for iteration in range(10):\n",
        "\n",
        "        rndm = np.random.randint(0,733,batch_size) # taking random frames\n",
        "        X_batch = frames[rndm]\n",
        "        Y_batch = class_type[rndm]\n",
        "\n",
        "\n",
        "        sess.run(training_op, feed_dict={X: X_batch, Y: Y_batch})\n",
        "\n",
        "\n",
        "    acc_train = accuracy.eval(session=sess,feed_dict={X: X_batch, Y: Y_batch})\n",
        "    \n",
        "    accTr.append(acc_train)\n",
        "\n",
        "    rndm = np.random.randint(0,733,30)\n",
        "\n",
        "    X_test = frames[rndm]\n",
        "    Y_test = class_type[rndm]\n",
        "\n",
        "    acc_test = accuracy.eval(session=sess,feed_dict={X: X_test,\n",
        "    Y: Y_test})\n",
        "    \n",
        "    accTst.append(acc_test)\n",
        "\n",
        "    print(epoch, \"Train accuracy:\", acc_train, \"Test accuracy:\", acc_test)\n",
        "\n",
        "    if epoch%50 ==1:\n",
        "        saved_path = saver.save(sess, '/content/Anomaly-Detection-and-classification-in-surveillance-videos/classification_model/'+str(epoch)+'/model', global_step=epoch)"
      ],
      "metadata": {
        "colab": {
          "base_uri": "https://localhost:8080/"
        },
        "id": "RPfKR2swVkBr",
        "outputId": "b499f88d-8ff8-4b58-bb16-52b235cd1389"
      },
      "execution_count": null,
      "outputs": [
        {
          "output_type": "stream",
          "name": "stdout",
          "text": [
            "0 Train accuracy: 0.88 Test accuracy: 0.8\n",
            "1 Train accuracy: 0.94 Test accuracy: 0.96666664\n",
            "2 Train accuracy: 0.92 Test accuracy: 0.9\n",
            "3 Train accuracy: 0.92 Test accuracy: 0.8666667\n",
            "4 Train accuracy: 0.9 Test accuracy: 1.0\n",
            "5 Train accuracy: 0.96 Test accuracy: 0.96666664\n",
            "6 Train accuracy: 0.96 Test accuracy: 1.0\n",
            "7 Train accuracy: 1.0 Test accuracy: 0.8666667\n",
            "8 Train accuracy: 0.94 Test accuracy: 1.0\n",
            "9 Train accuracy: 0.94 Test accuracy: 1.0\n",
            "10 Train accuracy: 0.96 Test accuracy: 1.0\n",
            "11 Train accuracy: 0.96 Test accuracy: 0.96666664\n",
            "12 Train accuracy: 1.0 Test accuracy: 0.96666664\n",
            "13 Train accuracy: 0.92 Test accuracy: 0.93333334\n",
            "14 Train accuracy: 0.98 Test accuracy: 0.93333334\n",
            "15 Train accuracy: 0.94 Test accuracy: 1.0\n",
            "16 Train accuracy: 1.0 Test accuracy: 1.0\n",
            "17 Train accuracy: 0.94 Test accuracy: 0.9\n",
            "18 Train accuracy: 1.0 Test accuracy: 0.93333334\n",
            "19 Train accuracy: 0.98 Test accuracy: 0.96666664\n",
            "20 Train accuracy: 1.0 Test accuracy: 0.93333334\n",
            "21 Train accuracy: 0.96 Test accuracy: 1.0\n",
            "22 Train accuracy: 0.92 Test accuracy: 1.0\n",
            "23 Train accuracy: 0.98 Test accuracy: 0.96666664\n",
            "24 Train accuracy: 0.96 Test accuracy: 0.96666664\n",
            "25 Train accuracy: 0.96 Test accuracy: 1.0\n",
            "26 Train accuracy: 0.96 Test accuracy: 0.93333334\n",
            "27 Train accuracy: 0.92 Test accuracy: 0.96666664\n",
            "28 Train accuracy: 1.0 Test accuracy: 0.96666664\n",
            "29 Train accuracy: 0.98 Test accuracy: 0.8666667\n",
            "30 Train accuracy: 0.92 Test accuracy: 1.0\n",
            "31 Train accuracy: 0.98 Test accuracy: 1.0\n",
            "32 Train accuracy: 0.96 Test accuracy: 1.0\n",
            "33 Train accuracy: 0.98 Test accuracy: 1.0\n",
            "34 Train accuracy: 0.98 Test accuracy: 0.96666664\n",
            "35 Train accuracy: 0.98 Test accuracy: 0.96666664\n",
            "36 Train accuracy: 0.98 Test accuracy: 0.96666664\n",
            "37 Train accuracy: 0.96 Test accuracy: 0.93333334\n",
            "38 Train accuracy: 0.98 Test accuracy: 1.0\n",
            "39 Train accuracy: 1.0 Test accuracy: 0.8666667\n",
            "40 Train accuracy: 0.94 Test accuracy: 0.93333334\n",
            "41 Train accuracy: 1.0 Test accuracy: 0.93333334\n",
            "42 Train accuracy: 1.0 Test accuracy: 1.0\n",
            "43 Train accuracy: 0.98 Test accuracy: 0.93333334\n",
            "44 Train accuracy: 0.98 Test accuracy: 0.96666664\n",
            "45 Train accuracy: 0.94 Test accuracy: 1.0\n",
            "46 Train accuracy: 0.98 Test accuracy: 0.96666664\n",
            "47 Train accuracy: 0.94 Test accuracy: 1.0\n",
            "48 Train accuracy: 1.0 Test accuracy: 1.0\n",
            "49 Train accuracy: 0.98 Test accuracy: 0.96666664\n",
            "50 Train accuracy: 0.98 Test accuracy: 0.96666664\n",
            "51 Train accuracy: 1.0 Test accuracy: 1.0\n",
            "52 Train accuracy: 1.0 Test accuracy: 0.96666664\n",
            "53 Train accuracy: 0.98 Test accuracy: 1.0\n",
            "54 Train accuracy: 1.0 Test accuracy: 0.93333334\n",
            "55 Train accuracy: 1.0 Test accuracy: 1.0\n",
            "56 Train accuracy: 0.98 Test accuracy: 0.96666664\n",
            "57 Train accuracy: 0.96 Test accuracy: 0.96666664\n",
            "58 Train accuracy: 0.94 Test accuracy: 0.93333334\n",
            "59 Train accuracy: 0.98 Test accuracy: 0.96666664\n",
            "60 Train accuracy: 1.0 Test accuracy: 0.96666664\n",
            "61 Train accuracy: 0.98 Test accuracy: 0.96666664\n",
            "62 Train accuracy: 0.9 Test accuracy: 0.96666664\n",
            "63 Train accuracy: 0.94 Test accuracy: 0.96666664\n",
            "64 Train accuracy: 0.98 Test accuracy: 0.96666664\n",
            "65 Train accuracy: 0.94 Test accuracy: 1.0\n",
            "66 Train accuracy: 0.96 Test accuracy: 0.93333334\n",
            "67 Train accuracy: 0.96 Test accuracy: 0.96666664\n",
            "68 Train accuracy: 0.96 Test accuracy: 0.96666664\n",
            "69 Train accuracy: 1.0 Test accuracy: 0.96666664\n",
            "70 Train accuracy: 0.98 Test accuracy: 0.96666664\n",
            "71 Train accuracy: 0.98 Test accuracy: 0.96666664\n",
            "72 Train accuracy: 0.98 Test accuracy: 1.0\n",
            "73 Train accuracy: 0.96 Test accuracy: 0.96666664\n",
            "74 Train accuracy: 0.96 Test accuracy: 0.96666664\n",
            "75 Train accuracy: 0.96 Test accuracy: 1.0\n",
            "76 Train accuracy: 0.94 Test accuracy: 1.0\n",
            "77 Train accuracy: 0.98 Test accuracy: 0.96666664\n",
            "78 Train accuracy: 1.0 Test accuracy: 0.96666664\n",
            "79 Train accuracy: 1.0 Test accuracy: 0.96666664\n",
            "80 Train accuracy: 1.0 Test accuracy: 1.0\n",
            "81 Train accuracy: 0.96 Test accuracy: 0.96666664\n",
            "82 Train accuracy: 0.96 Test accuracy: 0.96666664\n",
            "83 Train accuracy: 0.96 Test accuracy: 0.96666664\n",
            "84 Train accuracy: 0.96 Test accuracy: 1.0\n",
            "85 Train accuracy: 0.98 Test accuracy: 1.0\n",
            "86 Train accuracy: 0.98 Test accuracy: 0.96666664\n",
            "87 Train accuracy: 0.96 Test accuracy: 1.0\n",
            "88 Train accuracy: 1.0 Test accuracy: 0.96666664\n",
            "89 Train accuracy: 0.98 Test accuracy: 0.96666664\n",
            "90 Train accuracy: 1.0 Test accuracy: 1.0\n",
            "91 Train accuracy: 1.0 Test accuracy: 0.96666664\n",
            "92 Train accuracy: 1.0 Test accuracy: 1.0\n",
            "93 Train accuracy: 0.98 Test accuracy: 0.96666664\n",
            "94 Train accuracy: 1.0 Test accuracy: 1.0\n",
            "95 Train accuracy: 1.0 Test accuracy: 0.96666664\n",
            "96 Train accuracy: 0.98 Test accuracy: 1.0\n",
            "97 Train accuracy: 0.98 Test accuracy: 0.9\n",
            "98 Train accuracy: 0.94 Test accuracy: 0.96666664\n",
            "99 Train accuracy: 0.98 Test accuracy: 1.0\n"
          ]
        }
      ]
    },
    {
      "cell_type": "code",
      "source": [
        "plt.plot(accTst)\n"
      ],
      "metadata": {
        "colab": {
          "base_uri": "https://localhost:8080/",
          "height": 282
        },
        "id": "u54ANtrfVlfz",
        "outputId": "7cd57d54-7587-4e0e-c23f-d185e1943e6d"
      },
      "execution_count": null,
      "outputs": [
        {
          "output_type": "execute_result",
          "data": {
            "text/plain": [
              "[<matplotlib.lines.Line2D at 0x7f5f6a0b2350>]"
            ]
          },
          "metadata": {},
          "execution_count": 27
        },
        {
          "output_type": "display_data",
          "data": {
            "text/plain": [
              "<Figure size 432x288 with 1 Axes>"
            ],
            "image/png": "[encoded data removed]"
          },
          "metadata": {
            "needs_background": "light"
          }
        }
      ]
    },
    {
      "cell_type": "code",
      "source": [
        "acc_test"
      ],
      "metadata": {
        "colab": {
          "base_uri": "https://localhost:8080/"
        },
        "id": "dYI3wX2bVugz",
        "outputId": "d50e5d0d-4892-46bc-a4b6-51877fcfffe6"
      },
      "execution_count": null,
      "outputs": [
        {
          "output_type": "execute_result",
          "data": {
            "text/plain": [
              "1.0"
            ]
          },
          "metadata": {},
          "execution_count": 28
        }
      ]
    },
    {
      "cell_type": "code",
      "source": [
        "!python /content/Anomaly-Detection-and-classification-in-surveillance-videos/Neural_network.py"
      ],
      "metadata": {
        "colab": {
          "base_uri": "https://localhost:8080/"
        },
        "id": "je6E7_tIWGwT",
        "outputId": "283fb1e3-21e5-4541-c170-08e96d34ba54"
      },
      "execution_count": null,
      "outputs": [
        {
          "output_type": "stream",
          "name": "stdout",
          "text": [
            "/usr/local/lib/python3.7/dist-packages/tensorflow/python/framework/dtypes.py:526: FutureWarning: Passing (type, 1) or '1type' as a synonym of type is deprecated; in a future version of numpy, it will be understood as (type, (1,)) / '(1,)type'.\n",
            "  _np_qint8 = np.dtype([(\"qint8\", np.int8, 1)])\n",
            "/usr/local/lib/python3.7/dist-packages/tensorflow/python/framework/dtypes.py:527: FutureWarning: Passing (type, 1) or '1type' as a synonym of type is deprecated; in a future version of numpy, it will be understood as (type, (1,)) / '(1,)type'.\n",
            "  _np_quint8 = np.dtype([(\"quint8\", np.uint8, 1)])\n",
            "/usr/local/lib/python3.7/dist-packages/tensorflow/python/framework/dtypes.py:528: FutureWarning: Passing (type, 1) or '1type' as a synonym of type is deprecated; in a future version of numpy, it will be understood as (type, (1,)) / '(1,)type'.\n",
            "  _np_qint16 = np.dtype([(\"qint16\", np.int16, 1)])\n",
            "/usr/local/lib/python3.7/dist-packages/tensorflow/python/framework/dtypes.py:529: FutureWarning: Passing (type, 1) or '1type' as a synonym of type is deprecated; in a future version of numpy, it will be understood as (type, (1,)) / '(1,)type'.\n",
            "  _np_quint16 = np.dtype([(\"quint16\", np.uint16, 1)])\n",
            "/usr/local/lib/python3.7/dist-packages/tensorflow/python/framework/dtypes.py:530: FutureWarning: Passing (type, 1) or '1type' as a synonym of type is deprecated; in a future version of numpy, it will be understood as (type, (1,)) / '(1,)type'.\n",
            "  _np_qint32 = np.dtype([(\"qint32\", np.int32, 1)])\n",
            "/usr/local/lib/python3.7/dist-packages/tensorflow/python/framework/dtypes.py:535: FutureWarning: Passing (type, 1) or '1type' as a synonym of type is deprecated; in a future version of numpy, it will be understood as (type, (1,)) / '(1,)type'.\n",
            "  np_resource = np.dtype([(\"resource\", np.ubyte, 1)])\n"
          ]
        }
      ]
    },
    {
      "cell_type": "markdown",
      "source": [
        "Training"
      ],
      "metadata": {
        "id": "0HlQjK0Ahc1r"
      }
    },
    {
      "cell_type": "code",
      "source": [
        "import os\n",
        "import numpy as np\n",
        "import matplotlib.pyplot as plt\n",
        "from datetime import datetime"
      ],
      "metadata": {
        "id": "iyZ121VgWKbj"
      },
      "execution_count": null,
      "outputs": []
    },
    {
      "cell_type": "code",
      "source": [
        "import tensorflow as tf\n"
      ],
      "metadata": {
        "id": "v81DjfJ_WYNL"
      },
      "execution_count": null,
      "outputs": []
    },
    {
      "cell_type": "code",
      "source": [
        "# !dir\n",
        "# !pwd\n",
        "%cd Anomaly-Detection-and-classification-in-surveillance-videos"
      ],
      "metadata": {
        "colab": {
          "base_uri": "https://localhost:8080/"
        },
        "id": "CPywlfgfXLGb",
        "outputId": "516efc08-4cf3-4cf7-dc61-7782ffa32829"
      },
      "execution_count": null,
      "outputs": [
        {
          "output_type": "stream",
          "name": "stdout",
          "text": [
            "/content/Anomaly-Detection-and-classification-in-surveillance-videos\n"
          ]
        }
      ]
    },
    {
      "cell_type": "code",
      "source": [
        "!pwd"
      ],
      "metadata": {
        "colab": {
          "base_uri": "https://localhost:8080/"
        },
        "id": "tU_z45UoXmSr",
        "outputId": "0364769d-f4d0-4786-e542-6c0e490e9a47"
      },
      "execution_count": null,
      "outputs": [
        {
          "output_type": "stream",
          "name": "stdout",
          "text": [
            "/content/Anomaly-Detection-and-classification-in-surveillance-videos\n"
          ]
        }
      ]
    },
    {
      "cell_type": "code",
      "source": [
        "from Data_loader import *\n",
        "from Neural_network import *"
      ],
      "metadata": {
        "id": "g01W65cfWY_L"
      },
      "execution_count": null,
      "outputs": []
    },
    {
      "cell_type": "code",
      "source": [
        "x = tf.placeholder('float', [None, 4096])\n",
        "#y = tf.placeholder('float')\n",
        "hl = tf.placeholder('float') #hinge_loss\n"
      ],
      "metadata": {
        "id": "EtlDzuLaWZ7j"
      },
      "execution_count": null,
      "outputs": []
    },
    {
      "cell_type": "code",
      "source": [
        "Anomaly,Normal=get_training_set(\"/content/Anomaly-Detection-and-classification-in-surveillance-videos/out\")\n"
      ],
      "metadata": {
        "id": "-sGXGvjkX9pb"
      },
      "execution_count": null,
      "outputs": []
    },
    {
      "cell_type": "code",
      "source": [
        "output , weights_1 , weights_2, weights_3 = dnn_network(x)\n",
        "cost = 0.001 * (tf.nn.l2_loss(weights_1) + tf.nn.l2_loss(weights_2) + tf.nn.l2_loss(weights_3)) + hl\n",
        "optimizer = tf.train.AdagradOptimizer(0.001).minimize(cost)\n"
      ],
      "metadata": {
        "colab": {
          "base_uri": "https://localhost:8080/"
        },
        "id": "d7FoKw5zYACa",
        "outputId": "ac07888c-cb6a-485a-b05c-01b2f11a8127"
      },
      "execution_count": null,
      "outputs": [
        {
          "output_type": "stream",
          "name": "stdout",
          "text": [
            "WARNING:tensorflow:From /content/Anomaly-Detection-and-classification-in-surveillance-videos/Neural_network.py:28: dropout (from tensorflow.python.layers.core) is deprecated and will be removed in a future version.\n",
            "Instructions for updating:\n",
            "Use keras.layers.dropout instead.\n"
          ]
        }
      ]
    },
    {
      "cell_type": "code",
      "source": [
        "saver = tf.train.Saver()  # to save model\n"
      ],
      "metadata": {
        "id": "xlI-2c_GYBhr"
      },
      "execution_count": null,
      "outputs": []
    },
    {
      "cell_type": "code",
      "source": [
        "# Stoering details for tensorboard\n",
        "tf.summary.scalar('cost', cost)\n",
        "tf.summary.histogram('h_w1', weights_1)\n",
        "tf.summary.histogram('h_w2',weights_2)\n",
        "tf.summary.histogram('h_w3',weights_3)\n",
        "merged_summary_op = tf.summary.merge_all()\n"
      ],
      "metadata": {
        "id": "F5Yc08kyYCor"
      },
      "execution_count": null,
      "outputs": []
    },
    {
      "cell_type": "code",
      "source": [
        "# Initialize and run\n",
        "init = tf.global_variables_initializer()\n",
        "sess = tf.Session()\n",
        "sess.run(init)\n"
      ],
      "metadata": {
        "id": "9vtd0SmrYD1z"
      },
      "execution_count": null,
      "outputs": []
    },
    {
      "cell_type": "code",
      "source": [
        "epochs=501\n",
        "print_epoch =20\n",
        "save_model_epoch=500\n",
        "count=0\n"
      ],
      "metadata": {
        "id": "zmPj9WoEYE7L"
      },
      "execution_count": null,
      "outputs": []
    },
    {
      "cell_type": "code",
      "source": [
        "#los =[] #loss array\n",
        "\n",
        "train_writer = tf.summary.FileWriter(\"/content/Anomaly-Detection-and-classification-in-surveillance-videos/logs/Dnn_session\",tf.get_default_graph())\n",
        "\n",
        "for epoch in range(epochs):\n",
        "\n",
        "    i=0\n",
        "    anomaly,normal = get_training_set(\"/content/Anomaly-Detection-and-classification-in-surveillance-videos/out\") # getting data\n",
        "\n",
        "    while i < len(anomaly):\n",
        "\n",
        "        start = i\n",
        "\n",
        "        end =i+batch_size\n",
        "\n",
        "        batch_x =np.array(anomaly[start:end])\n",
        "        batch_y =np.array(normal[start:end])  # Single Video of normal and anomolus\n",
        "\n",
        "\n",
        "        anomaly_score = sess.run(output,feed_dict={x: batch_x})\n",
        "        normal_score,W1= sess.run([output,weights_1],feed_dict={x: batch_y})  # calaculated score of anomolus and normal video\n",
        "\n",
        "        # calculation of hinge loss-------------------------------------------------\n",
        "        anomaly_score = anomaly_score.flatten()\n",
        "        normal_score = normal_score.flatten()\n",
        "\n",
        "        l = max(0.0,(1-anomaly_score.max()+normal_score.max())) #loss implementation\n",
        "\n",
        "        add = 0.0\n",
        "        for index in range(len(anomaly_score) - 1):\n",
        "            add += (anomaly_score[index] - anomaly_score[index+1]) ** 2\n",
        "\n",
        "        final_cost = l + (add*1.0 + anomaly_score.sum()) * 0.00008 \n",
        "\n",
        "        # loss completd----------------------------------------------------------\n",
        "\n",
        "        o,_,cst,summ = sess.run([optimizer,output,cost,merged_summary_op], feed_dict={hl : final_cost,x: batch_x})\n",
        "\n",
        "\n",
        "        i =i + batch_size\n",
        "\n",
        "        train_writer.add_summary(summ,count) # summaries for tensorBoard\n",
        "\n",
        "        count += 1\n",
        "    #los.append(cst)\n",
        "\n",
        "    if epoch %print_epoch ==1:\n",
        "        print('Epoch', epoch, 'completed out of',epochs,'loss:',cst)\n",
        "\n",
        "    if epoch%save_model_epoch == 1:\n",
        "        saved_path = saver.save(sess, '/content/Anomaly-Detection-and-classification-in-surveillance-videos/model_logs/'+str(epoch)+'/model', global_step=epoch)\n"
      ],
      "metadata": {
        "colab": {
          "base_uri": "https://localhost:8080/"
        },
        "id": "sD2Yn-_sYF6z",
        "outputId": "4eb947b8-f306-4caa-d9ad-90a6b1bb75c2"
      },
      "execution_count": null,
      "outputs": [
        {
          "output_type": "stream",
          "name": "stdout",
          "text": [
            "Epoch 1 completed out of 501 loss: 1057.3972\n",
            "Epoch 21 completed out of 501 loss: 1053.4169\n",
            "Epoch 41 completed out of 501 loss: 1049.4843\n",
            "Epoch 61 completed out of 501 loss: 1046.5999\n",
            "Epoch 81 completed out of 501 loss: 1041.7615\n",
            "Epoch 101 completed out of 501 loss: 1037.9692\n",
            "Epoch 121 completed out of 501 loss: 1034.2151\n",
            "Epoch 141 completed out of 501 loss: 1030.5035\n",
            "Epoch 161 completed out of 501 loss: 1027.6083\n",
            "Epoch 181 completed out of 501 loss: 1023.20026\n",
            "Epoch 201 completed out of 501 loss: 1019.6171\n",
            "Epoch 221 completed out of 501 loss: 1016.04315\n",
            "Epoch 241 completed out of 501 loss: 1012.2683\n",
            "Epoch 261 completed out of 501 loss: 1009.02637\n",
            "Epoch 281 completed out of 501 loss: 1005.5671\n",
            "Epoch 301 completed out of 501 loss: 1002.14374\n",
            "Epoch 321 completed out of 501 loss: 998.7486\n",
            "Epoch 341 completed out of 501 loss: 995.38666\n",
            "Epoch 361 completed out of 501 loss: 991.0533\n",
            "Epoch 381 completed out of 501 loss: 987.7525\n",
            "Epoch 401 completed out of 501 loss: 984.47504\n",
            "Epoch 421 completed out of 501 loss: 982.22974\n",
            "Epoch 441 completed out of 501 loss: 979.01117\n",
            "Epoch 461 completed out of 501 loss: 975.8193\n",
            "Epoch 481 completed out of 501 loss: 971.6517\n"
          ]
        }
      ]
    },
    {
      "cell_type": "markdown",
      "source": [
        "Testing"
      ],
      "metadata": {
        "id": "WN27X1HyhZh1"
      }
    },
    {
      "cell_type": "code",
      "source": [
        "import os\n",
        "import numpy as np\n",
        "import matplotlib.pyplot as plt\n",
        "from datetime import datetime"
      ],
      "metadata": {
        "id": "El6nCTCbYf50"
      },
      "execution_count": null,
      "outputs": []
    },
    {
      "cell_type": "code",
      "source": [
        "import tensorflow as tf\n"
      ],
      "metadata": {
        "id": "hlwxJBsvhokr"
      },
      "execution_count": null,
      "outputs": []
    },
    {
      "cell_type": "code",
      "source": [
        "from Neural_network import *\n",
        "from Data_loader import *\n",
        "from video_utils import *"
      ],
      "metadata": {
        "id": "qwKM79YChpUs"
      },
      "execution_count": null,
      "outputs": []
    },
    {
      "cell_type": "code",
      "source": [
        "x = tf.placeholder('float', [None, 4096])"
      ],
      "metadata": {
        "id": "DVhNjvgBhqGE"
      },
      "execution_count": null,
      "outputs": []
    },
    {
      "cell_type": "code",
      "source": [
        "output , weights_1 , weights_2, weights_3 = dnn_network(x)\n"
      ],
      "metadata": {
        "id": "pGtv27xAhrAE"
      },
      "execution_count": null,
      "outputs": []
    },
    {
      "cell_type": "code",
      "source": [
        "# Initialize and run\n",
        "init = tf.global_variables_initializer()\n",
        "sess = tf.Session()\n",
        "sess.run(init)\n"
      ],
      "metadata": {
        "id": "JG79y6dShss8"
      },
      "execution_count": null,
      "outputs": []
    },
    {
      "cell_type": "code",
      "source": [
        "saver = tf.train.Saver()  # to save model\n"
      ],
      "metadata": {
        "id": "lRCeVakYhtlF"
      },
      "execution_count": null,
      "outputs": []
    },
    {
      "cell_type": "code",
      "source": [
        "%cd Anomaly-Detection-and-classification-in-surveillance-videos"
      ],
      "metadata": {
        "colab": {
          "base_uri": "https://localhost:8080/"
        },
        "id": "swX2_dSpkOTD",
        "outputId": "53ad08fe-d123-4dd8-e0d1-84cb3e44a1ea"
      },
      "execution_count": null,
      "outputs": [
        {
          "output_type": "stream",
          "name": "stdout",
          "text": [
            "/content/Anomaly-Detection-and-classification-in-surveillance-videos\n"
          ]
        }
      ]
    },
    {
      "cell_type": "code",
      "source": [
        "# ?? Debugging needed\n",
        "saver.restore(sess, './model_logs/501/501/model-501')"
      ],
      "metadata": {
        "colab": {
          "base_uri": "https://localhost:8080/",
          "height": 1000
        },
        "id": "iT9MxmyRhuRb",
        "outputId": "ab0a92fe-b798-4ff8-aaf7-a00638fe5a34"
      },
      "execution_count": null,
      "outputs": [
        {
          "output_type": "stream",
          "name": "stdout",
          "text": [
            "INFO:tensorflow:Restoring parameters from ./model_logs/501/501/model-501\n"
          ]
        },
        {
          "output_type": "error",
          "ename": "NotFoundError",
          "evalue": "ignored",
          "traceback": [
            "\u001b[0;31m---------------------------------------------------------------------------\u001b[0m",
            "\u001b[0;31mNotFoundError\u001b[0m                             Traceback (most recent call last)",
            "\u001b[0;32m/usr/local/lib/python3.7/dist-packages/tensorflow/python/client/session.py\u001b[0m in \u001b[0;36m_do_call\u001b[0;34m(self, fn, *args)\u001b[0m\n\u001b[1;32m   1333\u001b[0m     \u001b[0;32mtry\u001b[0m\u001b[0;34m:\u001b[0m\u001b[0;34m\u001b[0m\u001b[0;34m\u001b[0m\u001b[0m\n\u001b[0;32m-> 1334\u001b[0;31m       \u001b[0;32mreturn\u001b[0m \u001b[0mfn\u001b[0m\u001b[0;34m(\u001b[0m\u001b[0;34m*\u001b[0m\u001b[0margs\u001b[0m\u001b[0;34m)\u001b[0m\u001b[0;34m\u001b[0m\u001b[0;34m\u001b[0m\u001b[0m\n\u001b[0m\u001b[1;32m   1335\u001b[0m     \u001b[0;32mexcept\u001b[0m \u001b[0merrors\u001b[0m\u001b[0;34m.\u001b[0m\u001b[0mOpError\u001b[0m \u001b[0;32mas\u001b[0m \u001b[0me\u001b[0m\u001b[0;34m:\u001b[0m\u001b[0;34m\u001b[0m\u001b[0;34m\u001b[0m\u001b[0m\n",
            "\u001b[0;32m/usr/local/lib/python3.7/dist-packages/tensorflow/python/client/session.py\u001b[0m in \u001b[0;36m_run_fn\u001b[0;34m(feed_dict, fetch_list, target_list, options, run_metadata)\u001b[0m\n\u001b[1;32m   1318\u001b[0m       return self._call_tf_sessionrun(\n\u001b[0;32m-> 1319\u001b[0;31m           options, feed_dict, fetch_list, target_list, run_metadata)\n\u001b[0m\u001b[1;32m   1320\u001b[0m \u001b[0;34m\u001b[0m\u001b[0m\n",
            "\u001b[0;32m/usr/local/lib/python3.7/dist-packages/tensorflow/python/client/session.py\u001b[0m in \u001b[0;36m_call_tf_sessionrun\u001b[0;34m(self, options, feed_dict, fetch_list, target_list, run_metadata)\u001b[0m\n\u001b[1;32m   1406\u001b[0m         \u001b[0mself\u001b[0m\u001b[0;34m.\u001b[0m\u001b[0m_session\u001b[0m\u001b[0;34m,\u001b[0m \u001b[0moptions\u001b[0m\u001b[0;34m,\u001b[0m \u001b[0mfeed_dict\u001b[0m\u001b[0;34m,\u001b[0m \u001b[0mfetch_list\u001b[0m\u001b[0;34m,\u001b[0m \u001b[0mtarget_list\u001b[0m\u001b[0;34m,\u001b[0m\u001b[0;34m\u001b[0m\u001b[0;34m\u001b[0m\u001b[0m\n\u001b[0;32m-> 1407\u001b[0;31m         run_metadata)\n\u001b[0m\u001b[1;32m   1408\u001b[0m \u001b[0;34m\u001b[0m\u001b[0m\n",
            "\u001b[0;31mNotFoundError\u001b[0m: Key Variable_10 not found in checkpoint\n\t [[{{node save_3/RestoreV2}}]]",
            "\nDuring handling of the above exception, another exception occurred:\n",
            "\u001b[0;31mNotFoundError\u001b[0m                             Traceback (most recent call last)",
            "\u001b[0;32m/usr/local/lib/python3.7/dist-packages/tensorflow/python/training/saver.py\u001b[0m in \u001b[0;36mrestore\u001b[0;34m(self, sess, save_path)\u001b[0m\n\u001b[1;32m   1275\u001b[0m         sess.run(self.saver_def.restore_op_name,\n\u001b[0;32m-> 1276\u001b[0;31m                  {self.saver_def.filename_tensor_name: save_path})\n\u001b[0m\u001b[1;32m   1277\u001b[0m     \u001b[0;32mexcept\u001b[0m \u001b[0merrors\u001b[0m\u001b[0;34m.\u001b[0m\u001b[0mNotFoundError\u001b[0m \u001b[0;32mas\u001b[0m \u001b[0merr\u001b[0m\u001b[0;34m:\u001b[0m\u001b[0;34m\u001b[0m\u001b[0;34m\u001b[0m\u001b[0m\n",
            "\u001b[0;32m/usr/local/lib/python3.7/dist-packages/tensorflow/python/client/session.py\u001b[0m in \u001b[0;36mrun\u001b[0;34m(self, fetches, feed_dict, options, run_metadata)\u001b[0m\n\u001b[1;32m    928\u001b[0m       result = self._run(None, fetches, feed_dict, options_ptr,\n\u001b[0;32m--> 929\u001b[0;31m                          run_metadata_ptr)\n\u001b[0m\u001b[1;32m    930\u001b[0m       \u001b[0;32mif\u001b[0m \u001b[0mrun_metadata\u001b[0m\u001b[0;34m:\u001b[0m\u001b[0;34m\u001b[0m\u001b[0;34m\u001b[0m\u001b[0m\n",
            "\u001b[0;32m/usr/local/lib/python3.7/dist-packages/tensorflow/python/client/session.py\u001b[0m in \u001b[0;36m_run\u001b[0;34m(self, handle, fetches, feed_dict, options, run_metadata)\u001b[0m\n\u001b[1;32m   1151\u001b[0m       results = self._do_run(handle, final_targets, final_fetches,\n\u001b[0;32m-> 1152\u001b[0;31m                              feed_dict_tensor, options, run_metadata)\n\u001b[0m\u001b[1;32m   1153\u001b[0m     \u001b[0;32melse\u001b[0m\u001b[0;34m:\u001b[0m\u001b[0;34m\u001b[0m\u001b[0;34m\u001b[0m\u001b[0m\n",
            "\u001b[0;32m/usr/local/lib/python3.7/dist-packages/tensorflow/python/client/session.py\u001b[0m in \u001b[0;36m_do_run\u001b[0;34m(self, handle, target_list, fetch_list, feed_dict, options, run_metadata)\u001b[0m\n\u001b[1;32m   1327\u001b[0m       return self._do_call(_run_fn, feeds, fetches, targets, options,\n\u001b[0;32m-> 1328\u001b[0;31m                            run_metadata)\n\u001b[0m\u001b[1;32m   1329\u001b[0m     \u001b[0;32melse\u001b[0m\u001b[0;34m:\u001b[0m\u001b[0;34m\u001b[0m\u001b[0;34m\u001b[0m\u001b[0m\n",
            "\u001b[0;32m/usr/local/lib/python3.7/dist-packages/tensorflow/python/client/session.py\u001b[0m in \u001b[0;36m_do_call\u001b[0;34m(self, fn, *args)\u001b[0m\n\u001b[1;32m   1347\u001b[0m       \u001b[0mmessage\u001b[0m \u001b[0;34m=\u001b[0m \u001b[0merror_interpolation\u001b[0m\u001b[0;34m.\u001b[0m\u001b[0minterpolate\u001b[0m\u001b[0;34m(\u001b[0m\u001b[0mmessage\u001b[0m\u001b[0;34m,\u001b[0m \u001b[0mself\u001b[0m\u001b[0;34m.\u001b[0m\u001b[0m_graph\u001b[0m\u001b[0;34m)\u001b[0m\u001b[0;34m\u001b[0m\u001b[0;34m\u001b[0m\u001b[0m\n\u001b[0;32m-> 1348\u001b[0;31m       \u001b[0;32mraise\u001b[0m \u001b[0mtype\u001b[0m\u001b[0;34m(\u001b[0m\u001b[0me\u001b[0m\u001b[0;34m)\u001b[0m\u001b[0;34m(\u001b[0m\u001b[0mnode_def\u001b[0m\u001b[0;34m,\u001b[0m \u001b[0mop\u001b[0m\u001b[0;34m,\u001b[0m \u001b[0mmessage\u001b[0m\u001b[0;34m)\u001b[0m\u001b[0;34m\u001b[0m\u001b[0;34m\u001b[0m\u001b[0m\n\u001b[0m\u001b[1;32m   1349\u001b[0m \u001b[0;34m\u001b[0m\u001b[0m\n",
            "\u001b[0;31mNotFoundError\u001b[0m: Key Variable_10 not found in checkpoint\n\t [[node save_3/RestoreV2 (defined at <ipython-input-60-42b811e3e06d>:1) ]]\n\nCaused by op 'save_3/RestoreV2', defined at:\n  File \"/usr/lib/python3.7/runpy.py\", line 193, in _run_module_as_main\n    \"__main__\", mod_spec)\n  File \"/usr/lib/python3.7/runpy.py\", line 85, in _run_code\n    exec(code, run_globals)\n  File \"/usr/local/lib/python3.7/dist-packages/ipykernel_launcher.py\", line 16, in <module>\n    app.launch_new_instance()\n  File \"/usr/local/lib/python3.7/dist-packages/traitlets/config/application.py\", line 846, in launch_instance\n    app.start()\n  File \"/usr/local/lib/python3.7/dist-packages/ipykernel/kernelapp.py\", line 499, in start\n    self.io_loop.start()\n  File \"/usr/local/lib/python3.7/dist-packages/tornado/platform/asyncio.py\", line 132, in start\n    self.asyncio_loop.run_forever()\n  File \"/usr/lib/python3.7/asyncio/base_events.py\", line 541, in run_forever\n    self._run_once()\n  File \"/usr/lib/python3.7/asyncio/base_events.py\", line 1786, in _run_once\n    handle._run()\n  File \"/usr/lib/python3.7/asyncio/events.py\", line 88, in _run\n    self._context.run(self._callback, *self._args)\n  File \"/usr/local/lib/python3.7/dist-packages/tornado/platform/asyncio.py\", line 122, in _handle_events\n    handler_func(fileobj, events)\n  File \"/usr/local/lib/python3.7/dist-packages/tornado/stack_context.py\", line 300, in null_wrapper\n    return fn(*args, **kwargs)\n  File \"/usr/local/lib/python3.7/dist-packages/zmq/eventloop/zmqstream.py\", line 577, in _handle_events\n    self._handle_recv()\n  File \"/usr/local/lib/python3.7/dist-packages/zmq/eventloop/zmqstream.py\", line 606, in _handle_recv\n    self._run_callback(callback, msg)\n  File \"/usr/local/lib/python3.7/dist-packages/zmq/eventloop/zmqstream.py\", line 556, in _run_callback\n    callback(*args, **kwargs)\n  File \"/usr/local/lib/python3.7/dist-packages/tornado/stack_context.py\", line 300, in null_wrapper\n    return fn(*args, **kwargs)\n  File \"/usr/local/lib/python3.7/dist-packages/ipykernel/kernelbase.py\", line 283, in dispatcher\n    return self.dispatch_shell(stream, msg)\n  File \"/usr/local/lib/python3.7/dist-packages/ipykernel/kernelbase.py\", line 233, in dispatch_shell\n    handler(stream, idents, msg)\n  File \"/usr/local/lib/python3.7/dist-packages/ipykernel/kernelbase.py\", line 399, in execute_request\n    user_expressions, allow_stdin)\n  File \"/usr/local/lib/python3.7/dist-packages/ipykernel/ipkernel.py\", line 208, in do_execute\n    res = shell.run_cell(code, store_history=store_history, silent=silent)\n  File \"/usr/local/lib/python3.7/dist-packages/ipykernel/zmqshell.py\", line 537, in run_cell\n    return super(ZMQInteractiveShell, self).run_cell(*args, **kwargs)\n  File \"/usr/local/lib/python3.7/dist-packages/IPython/core/interactiveshell.py\", line 2718, in run_cell\n    interactivity=interactivity, compiler=compiler, result=result)\n  File \"/usr/local/lib/python3.7/dist-packages/IPython/core/interactiveshell.py\", line 2822, in run_ast_nodes\n    if self.run_code(code, result):\n  File \"/usr/local/lib/python3.7/dist-packages/IPython/core/interactiveshell.py\", line 2882, in run_code\n    exec(code_obj, self.user_global_ns, self.user_ns)\n  File \"<ipython-input-60-42b811e3e06d>\", line 1, in <module>\n    saver = tf.train.Saver()  # to save model\n  File \"/usr/local/lib/python3.7/dist-packages/tensorflow/python/training/saver.py\", line 832, in __init__\n    self.build()\n  File \"/usr/local/lib/python3.7/dist-packages/tensorflow/python/training/saver.py\", line 844, in build\n    self._build(self._filename, build_save=True, build_restore=True)\n  File \"/usr/local/lib/python3.7/dist-packages/tensorflow/python/training/saver.py\", line 881, in _build\n    build_save=build_save, build_restore=build_restore)\n  File \"/usr/local/lib/python3.7/dist-packages/tensorflow/python/training/saver.py\", line 513, in _build_internal\n    restore_sequentially, reshape)\n  File \"/usr/local/lib/python3.7/dist-packages/tensorflow/python/training/saver.py\", line 332, in _AddRestoreOps\n    restore_sequentially)\n  File \"/usr/local/lib/python3.7/dist-packages/tensorflow/python/training/saver.py\", line 580, in bulk_restore\n    return io_ops.restore_v2(filename_tensor, names, slices, dtypes)\n  File \"/usr/local/lib/python3.7/dist-packages/tensorflow/python/ops/gen_io_ops.py\", line 1572, in restore_v2\n    name=name)\n  File \"/usr/local/lib/python3.7/dist-packages/tensorflow/python/framework/op_def_library.py\", line 788, in _apply_op_helper\n    op_def=op_def)\n  File \"/usr/local/lib/python3.7/dist-packages/tensorflow/python/util/deprecation.py\", line 507, in new_func\n    return func(*args, **kwargs)\n  File \"/usr/local/lib/python3.7/dist-packages/tensorflow/python/framework/ops.py\", line 3300, in create_op\n    op_def=op_def)\n  File \"/usr/local/lib/python3.7/dist-packages/tensorflow/python/framework/ops.py\", line 1801, in __init__\n    self._traceback = tf_stack.extract_stack()\n\nNotFoundError (see above for traceback): Key Variable_10 not found in checkpoint\n\t [[node save_3/RestoreV2 (defined at <ipython-input-60-42b811e3e06d>:1) ]]\n",
            "\nDuring handling of the above exception, another exception occurred:\n",
            "\u001b[0;31mNotFoundError\u001b[0m                             Traceback (most recent call last)",
            "\u001b[0;32m/usr/local/lib/python3.7/dist-packages/tensorflow/python/training/saver.py\u001b[0m in \u001b[0;36mrestore\u001b[0;34m(self, sess, save_path)\u001b[0m\n\u001b[1;32m   1285\u001b[0m       \u001b[0;32mtry\u001b[0m\u001b[0;34m:\u001b[0m\u001b[0;34m\u001b[0m\u001b[0;34m\u001b[0m\u001b[0m\n\u001b[0;32m-> 1286\u001b[0;31m         \u001b[0mnames_to_keys\u001b[0m \u001b[0;34m=\u001b[0m \u001b[0mobject_graph_key_mapping\u001b[0m\u001b[0;34m(\u001b[0m\u001b[0msave_path\u001b[0m\u001b[0;34m)\u001b[0m\u001b[0;34m\u001b[0m\u001b[0;34m\u001b[0m\u001b[0m\n\u001b[0m\u001b[1;32m   1287\u001b[0m       \u001b[0;32mexcept\u001b[0m \u001b[0merrors\u001b[0m\u001b[0;34m.\u001b[0m\u001b[0mNotFoundError\u001b[0m\u001b[0;34m:\u001b[0m\u001b[0;34m\u001b[0m\u001b[0;34m\u001b[0m\u001b[0m\n",
            "\u001b[0;32m/usr/local/lib/python3.7/dist-packages/tensorflow/python/training/saver.py\u001b[0m in \u001b[0;36mobject_graph_key_mapping\u001b[0;34m(checkpoint_path)\u001b[0m\n\u001b[1;32m   1590\u001b[0m   object_graph_string = reader.get_tensor(\n\u001b[0;32m-> 1591\u001b[0;31m       checkpointable.OBJECT_GRAPH_PROTO_KEY)\n\u001b[0m\u001b[1;32m   1592\u001b[0m   object_graph_proto = (\n",
            "\u001b[0;32m/usr/local/lib/python3.7/dist-packages/tensorflow/python/pywrap_tensorflow_internal.py\u001b[0m in \u001b[0;36mget_tensor\u001b[0;34m(self, tensor_str)\u001b[0m\n\u001b[1;32m    369\u001b[0m         return CheckpointReader_GetTensor(self, compat.as_bytes(tensor_str),\n\u001b[0;32m--> 370\u001b[0;31m                                           status)\n\u001b[0m\u001b[1;32m    371\u001b[0m \u001b[0;34m\u001b[0m\u001b[0m\n",
            "\u001b[0;32m/usr/local/lib/python3.7/dist-packages/tensorflow/python/framework/errors_impl.py\u001b[0m in \u001b[0;36m__exit__\u001b[0;34m(self, type_arg, value_arg, traceback_arg)\u001b[0m\n\u001b[1;32m    527\u001b[0m             \u001b[0mcompat\u001b[0m\u001b[0;34m.\u001b[0m\u001b[0mas_text\u001b[0m\u001b[0;34m(\u001b[0m\u001b[0mc_api\u001b[0m\u001b[0;34m.\u001b[0m\u001b[0mTF_Message\u001b[0m\u001b[0;34m(\u001b[0m\u001b[0mself\u001b[0m\u001b[0;34m.\u001b[0m\u001b[0mstatus\u001b[0m\u001b[0;34m.\u001b[0m\u001b[0mstatus\u001b[0m\u001b[0;34m)\u001b[0m\u001b[0;34m)\u001b[0m\u001b[0;34m,\u001b[0m\u001b[0;34m\u001b[0m\u001b[0;34m\u001b[0m\u001b[0m\n\u001b[0;32m--> 528\u001b[0;31m             c_api.TF_GetCode(self.status.status))\n\u001b[0m\u001b[1;32m    529\u001b[0m     \u001b[0;31m# Delete the underlying status object from memory otherwise it stays alive\u001b[0m\u001b[0;34m\u001b[0m\u001b[0;34m\u001b[0m\u001b[0;34m\u001b[0m\u001b[0m\n",
            "\u001b[0;31mNotFoundError\u001b[0m: Key _CHECKPOINTABLE_OBJECT_GRAPH not found in checkpoint",
            "\nDuring handling of the above exception, another exception occurred:\n",
            "\u001b[0;31mNotFoundError\u001b[0m                             Traceback (most recent call last)",
            "\u001b[0;32m<ipython-input-77-2f5d811c7010>\u001b[0m in \u001b[0;36m<module>\u001b[0;34m()\u001b[0m\n\u001b[0;32m----> 1\u001b[0;31m \u001b[0msaver\u001b[0m\u001b[0;34m.\u001b[0m\u001b[0mrestore\u001b[0m\u001b[0;34m(\u001b[0m\u001b[0msess\u001b[0m\u001b[0;34m,\u001b[0m \u001b[0;34m'./model_logs/501/501/model-501'\u001b[0m\u001b[0;34m)\u001b[0m\u001b[0;34m\u001b[0m\u001b[0;34m\u001b[0m\u001b[0m\n\u001b[0m",
            "\u001b[0;32m/usr/local/lib/python3.7/dist-packages/tensorflow/python/training/saver.py\u001b[0m in \u001b[0;36mrestore\u001b[0;34m(self, sess, save_path)\u001b[0m\n\u001b[1;32m   1290\u001b[0m         \u001b[0;31m# a helpful message (b/110263146)\u001b[0m\u001b[0;34m\u001b[0m\u001b[0;34m\u001b[0m\u001b[0;34m\u001b[0m\u001b[0m\n\u001b[1;32m   1291\u001b[0m         raise _wrap_restore_error_with_msg(\n\u001b[0;32m-> 1292\u001b[0;31m             err, \"a Variable name or other graph key that is missing\")\n\u001b[0m\u001b[1;32m   1293\u001b[0m \u001b[0;34m\u001b[0m\u001b[0m\n\u001b[1;32m   1294\u001b[0m       \u001b[0;31m# This is an object-based checkpoint. We'll print a warning and then do\u001b[0m\u001b[0;34m\u001b[0m\u001b[0;34m\u001b[0m\u001b[0;34m\u001b[0m\u001b[0m\n",
            "\u001b[0;31mNotFoundError\u001b[0m: Restoring from checkpoint failed. This is most likely due to a Variable name or other graph key that is missing from the checkpoint. Please ensure that you have not altered the graph expected based on the checkpoint. Original error:\n\nKey Variable_10 not found in checkpoint\n\t [[node save_3/RestoreV2 (defined at <ipython-input-60-42b811e3e06d>:1) ]]\n\nCaused by op 'save_3/RestoreV2', defined at:\n  File \"/usr/lib/python3.7/runpy.py\", line 193, in _run_module_as_main\n    \"__main__\", mod_spec)\n  File \"/usr/lib/python3.7/runpy.py\", line 85, in _run_code\n    exec(code, run_globals)\n  File \"/usr/local/lib/python3.7/dist-packages/ipykernel_launcher.py\", line 16, in <module>\n    app.launch_new_instance()\n  File \"/usr/local/lib/python3.7/dist-packages/traitlets/config/application.py\", line 846, in launch_instance\n    app.start()\n  File \"/usr/local/lib/python3.7/dist-packages/ipykernel/kernelapp.py\", line 499, in start\n    self.io_loop.start()\n  File \"/usr/local/lib/python3.7/dist-packages/tornado/platform/asyncio.py\", line 132, in start\n    self.asyncio_loop.run_forever()\n  File \"/usr/lib/python3.7/asyncio/base_events.py\", line 541, in run_forever\n    self._run_once()\n  File \"/usr/lib/python3.7/asyncio/base_events.py\", line 1786, in _run_once\n    handle._run()\n  File \"/usr/lib/python3.7/asyncio/events.py\", line 88, in _run\n    self._context.run(self._callback, *self._args)\n  File \"/usr/local/lib/python3.7/dist-packages/tornado/platform/asyncio.py\", line 122, in _handle_events\n    handler_func(fileobj, events)\n  File \"/usr/local/lib/python3.7/dist-packages/tornado/stack_context.py\", line 300, in null_wrapper\n    return fn(*args, **kwargs)\n  File \"/usr/local/lib/python3.7/dist-packages/zmq/eventloop/zmqstream.py\", line 577, in _handle_events\n    self._handle_recv()\n  File \"/usr/local/lib/python3.7/dist-packages/zmq/eventloop/zmqstream.py\", line 606, in _handle_recv\n    self._run_callback(callback, msg)\n  File \"/usr/local/lib/python3.7/dist-packages/zmq/eventloop/zmqstream.py\", line 556, in _run_callback\n    callback(*args, **kwargs)\n  File \"/usr/local/lib/python3.7/dist-packages/tornado/stack_context.py\", line 300, in null_wrapper\n    return fn(*args, **kwargs)\n  File \"/usr/local/lib/python3.7/dist-packages/ipykernel/kernelbase.py\", line 283, in dispatcher\n    return self.dispatch_shell(stream, msg)\n  File \"/usr/local/lib/python3.7/dist-packages/ipykernel/kernelbase.py\", line 233, in dispatch_shell\n    handler(stream, idents, msg)\n  File \"/usr/local/lib/python3.7/dist-packages/ipykernel/kernelbase.py\", line 399, in execute_request\n    user_expressions, allow_stdin)\n  File \"/usr/local/lib/python3.7/dist-packages/ipykernel/ipkernel.py\", line 208, in do_execute\n    res = shell.run_cell(code, store_history=store_history, silent=silent)\n  File \"/usr/local/lib/python3.7/dist-packages/ipykernel/zmqshell.py\", line 537, in run_cell\n    return super(ZMQInteractiveShell, self).run_cell(*args, **kwargs)\n  File \"/usr/local/lib/python3.7/dist-packages/IPython/core/interactiveshell.py\", line 2718, in run_cell\n    interactivity=interactivity, compiler=compiler, result=result)\n  File \"/usr/local/lib/python3.7/dist-packages/IPython/core/interactiveshell.py\", line 2822, in run_ast_nodes\n    if self.run_code(code, result):\n  File \"/usr/local/lib/python3.7/dist-packages/IPython/core/interactiveshell.py\", line 2882, in run_code\n    exec(code_obj, self.user_global_ns, self.user_ns)\n  File \"<ipython-input-60-42b811e3e06d>\", line 1, in <module>\n    saver = tf.train.Saver()  # to save model\n  File \"/usr/local/lib/python3.7/dist-packages/tensorflow/python/training/saver.py\", line 832, in __init__\n    self.build()\n  File \"/usr/local/lib/python3.7/dist-packages/tensorflow/python/training/saver.py\", line 844, in build\n    self._build(self._filename, build_save=True, build_restore=True)\n  File \"/usr/local/lib/python3.7/dist-packages/tensorflow/python/training/saver.py\", line 881, in _build\n    build_save=build_save, build_restore=build_restore)\n  File \"/usr/local/lib/python3.7/dist-packages/tensorflow/python/training/saver.py\", line 513, in _build_internal\n    restore_sequentially, reshape)\n  File \"/usr/local/lib/python3.7/dist-packages/tensorflow/python/training/saver.py\", line 332, in _AddRestoreOps\n    restore_sequentially)\n  File \"/usr/local/lib/python3.7/dist-packages/tensorflow/python/training/saver.py\", line 580, in bulk_restore\n    return io_ops.restore_v2(filename_tensor, names, slices, dtypes)\n  File \"/usr/local/lib/python3.7/dist-packages/tensorflow/python/ops/gen_io_ops.py\", line 1572, in restore_v2\n    name=name)\n  File \"/usr/local/lib/python3.7/dist-packages/tensorflow/python/framework/op_def_library.py\", line 788, in _apply_op_helper\n    op_def=op_def)\n  File \"/usr/local/lib/python3.7/dist-packages/tensorflow/python/util/deprecation.py\", line 507, in new_func\n    return func(*args, **kwargs)\n  File \"/usr/local/lib/python3.7/dist-packages/tensorflow/python/framework/ops.py\", line 3300, in create_op\n    op_def=op_def)\n  File \"/usr/local/lib/python3.7/dist-packages/tensorflow/python/framework/ops.py\", line 1801, in __init__\n    self._traceback = tf_stack.extract_stack()\n\nNotFoundError (see above for traceback): Restoring from checkpoint failed. This is most likely due to a Variable name or other graph key that is missing from the checkpoint. Please ensure that you have not altered the graph expected based on the checkpoint. Original error:\n\nKey Variable_10 not found in checkpoint\n\t [[node save_3/RestoreV2 (defined at <ipython-input-60-42b811e3e06d>:1) ]]\n"
          ]
        }
      ]
    },
    {
      "cell_type": "code",
      "source": [
        "def check_video_contains_anomaly(video):\n",
        "    prediction_a=sess.run(output,feed_dict={x: video})\n",
        "    prediction_a=prediction_a.flatten()\n",
        "     # if anomaly score is greater then 0.4 then consider as anomaly \n",
        "    index = np.where(prediction_a>0.4)[0]\n",
        "    pred=0\n",
        "    if prediction_a.max() > 0.4:\n",
        "        pred=1\n",
        "    return pred,index\n",
        "    "
      ],
      "metadata": {
        "id": "ZQKiilpsh4L1"
      },
      "execution_count": null,
      "outputs": []
    },
    {
      "cell_type": "markdown",
      "source": [
        "this section generates data for further classification of video in to (fighting/accident)\n"
      ],
      "metadata": {
        "id": "b9RhyDrbkxfT"
      }
    },
    {
      "cell_type": "code",
      "source": [
        "abnormal_path=\"./out\"\n",
        "a_t_vid = get_video_list(\"./out\"+\"/anomaly.txt\")"
      ],
      "metadata": {
        "id": "JXFLnXxxkkIU"
      },
      "execution_count": null,
      "outputs": []
    },
    {
      "cell_type": "code",
      "source": [
        "# for fighting video class will be 1\n",
        "# for roadaccidents vlass will be 0\n",
        "\n",
        "class_vid=[]\n",
        "prediction =[] # prediction only for anomaly detection\n",
        "anomaly_frames=[]\n",
        "\n",
        "#video_class\n",
        "for i in range(len(a_t_vid)):\n",
        "    \n",
        "    vid_path=os.path.join(abnormal_path,a_t_vid[i] )\n",
        "    \n",
        "    with open(vid_path,'r') as f:\n",
        "        lines = f.read().splitlines()\n",
        "        key=os.path.basename(a_t_vid[i])\n",
        "        key=os.path.splitext(key)[0]\n",
        "        \n",
        "        if \"Fighting\" in key: # this is for further classification using DNN\n",
        "            class_vid.append(1)\n",
        "        elif \"Road\" in key:\n",
        "            class_vid.append(0)\n",
        "            \n",
        "        features=[]\n",
        "    \n",
        "    for line in lines:\n",
        "        features.append(np.float32(line.split()))\n",
        "    \n",
        "    is_anomaly,a_loc=check_video_contains_anomaly(features)\n",
        "    \n",
        "    prediction.append(is_anomaly)\n",
        "    anomaly_frames.append(a_loc)\n"
      ],
      "metadata": {
        "id": "51TSLU3lkq1s"
      },
      "execution_count": null,
      "outputs": []
    },
    {
      "cell_type": "code",
      "source": [
        "import pickle\n",
        "\n",
        "dup_set=open(\"Data_set.pkl\",\"wb\")\n",
        "pickle.dump({\"File_location\":a_t_vid,\n",
        "             \"Anomaly_type\":class_vid,\n",
        "             \"anomaly_frames\":anomaly_frames},dup_set)\n"
      ],
      "metadata": {
        "id": "l_suT2CuksJU"
      },
      "execution_count": null,
      "outputs": []
    },
    {
      "cell_type": "markdown",
      "source": [
        "Anomaly type menas (1:Fighting / 0: Accident) AnomalyFrame contains frame no where anomaly occured.\n",
        "This Data Set is used for further anomaly type classification\n"
      ],
      "metadata": {
        "id": "-fyEyDNakvu0"
      }
    },
    {
      "cell_type": "code",
      "source": [
        "import pandas as pd\n",
        "pd.DataFrame(zip(a_t_vid,class_vid,anomaly_frames),columns=['File_location', 'Anomaly_type', 'Anomaly_frame'])\n"
      ],
      "metadata": {
        "colab": {
          "base_uri": "https://localhost:8080/",
          "height": 641
        },
        "id": "zbIeQA5vkugc",
        "outputId": "a2f70419-2b0e-49c9-d3a5-4afa4eb745a1"
      },
      "execution_count": null,
      "outputs": [
        {
          "output_type": "execute_result",
          "data": {
            "text/plain": [
              "                                         File_location  Anomaly_type  \\\n",
              "0    Anomaly-Videos-Part-2/Fighting/Fighting002_x26...             1   \n",
              "1    Anomaly-Videos-Part-2/Fighting/Fighting003_x26...             1   \n",
              "2    Anomaly-Videos-Part-2/Fighting/Fighting004_x26...             1   \n",
              "3    Anomaly-Videos-Part-2/Fighting/Fighting005_x26...             1   \n",
              "4    Anomaly-Videos-Part-2/Fighting/Fighting006_x26...             1   \n",
              "..                                                 ...           ...   \n",
              "171  Anomaly-Videos-Part-3/RoadAccidents/RoadAccide...             0   \n",
              "172  Anomaly-Videos-Part-3/RoadAccidents/RoadAccide...             0   \n",
              "173  Anomaly-Videos-Part-3/RoadAccidents/RoadAccide...             0   \n",
              "174  Anomaly-Videos-Part-3/RoadAccidents/RoadAccide...             0   \n",
              "175  Anomaly-Videos-Part-3/RoadAccidents/RoadAccide...             0   \n",
              "\n",
              "                                         Anomaly_frame  \n",
              "0    [0, 1, 2, 3, 4, 5, 6, 7, 8, 9, 10, 11, 12, 13,...  \n",
              "1    [0, 1, 2, 3, 4, 5, 6, 7, 8, 9, 10, 11, 12, 13,...  \n",
              "2    [0, 1, 2, 3, 4, 5, 6, 7, 8, 9, 10, 11, 12, 13,...  \n",
              "3    [0, 1, 2, 3, 4, 5, 6, 7, 8, 9, 10, 11, 12, 13,...  \n",
              "4    [0, 1, 2, 3, 4, 5, 6, 7, 8, 9, 10, 11, 12, 13,...  \n",
              "..                                                 ...  \n",
              "171  [0, 1, 2, 3, 4, 5, 6, 7, 8, 9, 10, 11, 12, 13,...  \n",
              "172  [0, 1, 2, 3, 4, 5, 6, 7, 8, 9, 10, 11, 12, 13,...  \n",
              "173  [0, 1, 2, 3, 4, 5, 6, 7, 8, 9, 10, 11, 12, 13,...  \n",
              "174  [0, 1, 2, 3, 4, 5, 6, 7, 8, 9, 10, 11, 12, 14,...  \n",
              "175  [0, 1, 2, 3, 4, 5, 6, 7, 8, 9, 10, 11, 12, 13,...  \n",
              "\n",
              "[176 rows x 3 columns]"
            ],
            "text/html": [
              "\n",
              "  <div id=\"df-1afc7ee5-b85a-4cd5-8a79-1dd400176ca9\">\n",
              "    <div class=\"colab-df-container\">\n",
              "      <div>\n",
              "<style scoped>\n",
              "    .dataframe tbody tr th:only-of-type {\n",
              "        vertical-align: middle;\n",
              "    }\n",
              "\n",
              "    .dataframe tbody tr th {\n",
              "        vertical-align: top;\n",
              "    }\n",
              "\n",
              "    .dataframe thead th {\n",
              "        text-align: right;\n",
              "    }\n",
              "</style>\n",
              "<table border=\"1\" class=\"dataframe\">\n",
              "  <thead>\n",
              "    <tr style=\"text-align: right;\">\n",
              "      <th></th>\n",
              "      <th>File_location</th>\n",
              "      <th>Anomaly_type</th>\n",
              "      <th>Anomaly_frame</th>\n",
              "    </tr>\n",
              "  </thead>\n",
              "  <tbody>\n",
              "    <tr>\n",
              "      <th>0</th>\n",
              "      <td>Anomaly-Videos-Part-2/Fighting/Fighting002_x26...</td>\n",
              "      <td>1</td>\n",
              "      <td>[0, 1, 2, 3, 4, 5, 6, 7, 8, 9, 10, 11, 12, 13,...</td>\n",
              "    </tr>\n",
              "    <tr>\n",
              "      <th>1</th>\n",
              "      <td>Anomaly-Videos-Part-2/Fighting/Fighting003_x26...</td>\n",
              "      <td>1</td>\n",
              "      <td>[0, 1, 2, 3, 4, 5, 6, 7, 8, 9, 10, 11, 12, 13,...</td>\n",
              "    </tr>\n",
              "    <tr>\n",
              "      <th>2</th>\n",
              "      <td>Anomaly-Videos-Part-2/Fighting/Fighting004_x26...</td>\n",
              "      <td>1</td>\n",
              "      <td>[0, 1, 2, 3, 4, 5, 6, 7, 8, 9, 10, 11, 12, 13,...</td>\n",
              "    </tr>\n",
              "    <tr>\n",
              "      <th>3</th>\n",
              "      <td>Anomaly-Videos-Part-2/Fighting/Fighting005_x26...</td>\n",
              "      <td>1</td>\n",
              "      <td>[0, 1, 2, 3, 4, 5, 6, 7, 8, 9, 10, 11, 12, 13,...</td>\n",
              "    </tr>\n",
              "    <tr>\n",
              "      <th>4</th>\n",
              "      <td>Anomaly-Videos-Part-2/Fighting/Fighting006_x26...</td>\n",
              "      <td>1</td>\n",
              "      <td>[0, 1, 2, 3, 4, 5, 6, 7, 8, 9, 10, 11, 12, 13,...</td>\n",
              "    </tr>\n",
              "    <tr>\n",
              "      <th>...</th>\n",
              "      <td>...</td>\n",
              "      <td>...</td>\n",
              "      <td>...</td>\n",
              "    </tr>\n",
              "    <tr>\n",
              "      <th>171</th>\n",
              "      <td>Anomaly-Videos-Part-3/RoadAccidents/RoadAccide...</td>\n",
              "      <td>0</td>\n",
              "      <td>[0, 1, 2, 3, 4, 5, 6, 7, 8, 9, 10, 11, 12, 13,...</td>\n",
              "    </tr>\n",
              "    <tr>\n",
              "      <th>172</th>\n",
              "      <td>Anomaly-Videos-Part-3/RoadAccidents/RoadAccide...</td>\n",
              "      <td>0</td>\n",
              "      <td>[0, 1, 2, 3, 4, 5, 6, 7, 8, 9, 10, 11, 12, 13,...</td>\n",
              "    </tr>\n",
              "    <tr>\n",
              "      <th>173</th>\n",
              "      <td>Anomaly-Videos-Part-3/RoadAccidents/RoadAccide...</td>\n",
              "      <td>0</td>\n",
              "      <td>[0, 1, 2, 3, 4, 5, 6, 7, 8, 9, 10, 11, 12, 13,...</td>\n",
              "    </tr>\n",
              "    <tr>\n",
              "      <th>174</th>\n",
              "      <td>Anomaly-Videos-Part-3/RoadAccidents/RoadAccide...</td>\n",
              "      <td>0</td>\n",
              "      <td>[0, 1, 2, 3, 4, 5, 6, 7, 8, 9, 10, 11, 12, 14,...</td>\n",
              "    </tr>\n",
              "    <tr>\n",
              "      <th>175</th>\n",
              "      <td>Anomaly-Videos-Part-3/RoadAccidents/RoadAccide...</td>\n",
              "      <td>0</td>\n",
              "      <td>[0, 1, 2, 3, 4, 5, 6, 7, 8, 9, 10, 11, 12, 13,...</td>\n",
              "    </tr>\n",
              "  </tbody>\n",
              "</table>\n",
              "<p>176 rows × 3 columns</p>\n",
              "</div>\n",
              "      <button class=\"colab-df-convert\" onclick=\"convertToInteractive('df-1afc7ee5-b85a-4cd5-8a79-1dd400176ca9')\"\n",
              "              title=\"Convert this dataframe to an interactive table.\"\n",
              "              style=\"display:none;\">\n",
              "        \n",
              "  <svg xmlns=\"http://www.w3.org/2000/svg\" height=\"24px\"viewBox=\"0 0 24 24\"\n",
              "       width=\"24px\">\n",
              "    <path d=\"M0 0h24v24H0V0z\" fill=\"none\"/>\n",
              "    <path d=\"M18.56 5.44l.94 2.06.94-2.06 2.06-.94-2.06-.94-.94-2.06-.94 2.06-2.06.94zm-11 1L8.5 8.5l.94-2.06 2.06-.94-2.06-.94L8.5 2.5l-.94 2.06-2.06.94zm10 10l.94 2.06.94-2.06 2.06-.94-2.06-.94-.94-2.06-.94 2.06-2.06.94z\"/><path d=\"M17.41 7.96l-1.37-1.37c-.4-.4-.92-.59-1.43-.59-.52 0-1.04.2-1.43.59L10.3 9.45l-7.72 7.72c-.78.78-.78 2.05 0 2.83L4 21.41c.39.39.9.59 1.41.59.51 0 1.02-.2 1.41-.59l7.78-7.78 2.81-2.81c.8-.78.8-2.07 0-2.86zM5.41 20L4 18.59l7.72-7.72 1.47 1.35L5.41 20z\"/>\n",
              "  </svg>\n",
              "      </button>\n",
              "      \n",
              "  <style>\n",
              "    .colab-df-container {\n",
              "      display:flex;\n",
              "      flex-wrap:wrap;\n",
              "      gap: 12px;\n",
              "    }\n",
              "\n",
              "    .colab-df-convert {\n",
              "      background-color: #E8F0FE;\n",
              "      border: none;\n",
              "      border-radius: 50%;\n",
              "      cursor: pointer;\n",
              "      display: none;\n",
              "      fill: #1967D2;\n",
              "      height: 32px;\n",
              "      padding: 0 0 0 0;\n",
              "      width: 32px;\n",
              "    }\n",
              "\n",
              "    .colab-df-convert:hover {\n",
              "      background-color: #E2EBFA;\n",
              "      box-shadow: 0px 1px 2px rgba(60, 64, 67, 0.3), 0px 1px 3px 1px rgba(60, 64, 67, 0.15);\n",
              "      fill: #174EA6;\n",
              "    }\n",
              "\n",
              "    [theme=dark] .colab-df-convert {\n",
              "      background-color: #3B4455;\n",
              "      fill: #D2E3FC;\n",
              "    }\n",
              "\n",
              "    [theme=dark] .colab-df-convert:hover {\n",
              "      background-color: #434B5C;\n",
              "      box-shadow: 0px 1px 3px 1px rgba(0, 0, 0, 0.15);\n",
              "      filter: drop-shadow(0px 1px 2px rgba(0, 0, 0, 0.3));\n",
              "      fill: #FFFFFF;\n",
              "    }\n",
              "  </style>\n",
              "\n",
              "      <script>\n",
              "        const buttonEl =\n",
              "          document.querySelector('#df-1afc7ee5-b85a-4cd5-8a79-1dd400176ca9 button.colab-df-convert');\n",
              "        buttonEl.style.display =\n",
              "          google.colab.kernel.accessAllowed ? 'block' : 'none';\n",
              "\n",
              "        async function convertToInteractive(key) {\n",
              "          const element = document.querySelector('#df-1afc7ee5-b85a-4cd5-8a79-1dd400176ca9');\n",
              "          const dataTable =\n",
              "            await google.colab.kernel.invokeFunction('convertToInteractive',\n",
              "                                                     [key], {});\n",
              "          if (!dataTable) return;\n",
              "\n",
              "          const docLinkHtml = 'Like what you see? Visit the ' +\n",
              "            '<a target=\"_blank\" href=https://colab.research.google.com/notebooks/data_table.ipynb>data table notebook</a>'\n",
              "            + ' to learn more about interactive tables.';\n",
              "          element.innerHTML = '';\n",
              "          dataTable['output_type'] = 'display_data';\n",
              "          await google.colab.output.renderOutput(dataTable, element);\n",
              "          const docLink = document.createElement('div');\n",
              "          docLink.innerHTML = docLinkHtml;\n",
              "          element.appendChild(docLink);\n",
              "        }\n",
              "      </script>\n",
              "    </div>\n",
              "  </div>\n",
              "  "
            ]
          },
          "metadata": {},
          "execution_count": 82
        }
      ]
    },
    {
      "cell_type": "code",
      "source": [
        "normal_path=\"./out\"\n",
        "n_t_vid = get_video_list(\"./out\"+\"/anomaly.txt\")\n"
      ],
      "metadata": {
        "id": "36Oj6iiwk5TD"
      },
      "execution_count": null,
      "outputs": []
    },
    {
      "cell_type": "code",
      "source": [
        "pred_n=[]\n",
        "for i in range(len(n_t_vid)):\n",
        "    vid_path=os.path.join(abnormal_path,n_t_vid[i] )\n",
        "    \n",
        "    with open(vid_path,'r') as f:\n",
        "        lines = f.read().splitlines()\n",
        "    features=[]\n",
        "    \n",
        "    for line in lines:\n",
        "        features.append(np.float32(line.split()))\n",
        "        \n",
        "    pred,_=check_video_contains_anomaly(features)\n",
        "    \n",
        "    pred_n.append(pred)\n",
        "    \n"
      ],
      "metadata": {
        "id": "ZzxkeKZmk8xD"
      },
      "execution_count": null,
      "outputs": []
    },
    {
      "cell_type": "code",
      "source": [
        "tp=np.array([1]*176)\n",
        "tn=np.array([0]*176)\n"
      ],
      "metadata": {
        "id": "63lUgZ-ak9tM"
      },
      "execution_count": null,
      "outputs": []
    },
    {
      "cell_type": "code",
      "source": [
        "actual=np.hstack((tp,tn))\n"
      ],
      "metadata": {
        "id": "sazq60F2k_wr"
      },
      "execution_count": null,
      "outputs": []
    },
    {
      "cell_type": "code",
      "source": [
        "final_pred=np.hstack((np.array(prediction),np.array(pred_n)))\n"
      ],
      "metadata": {
        "id": "YWozRFeflAd8"
      },
      "execution_count": null,
      "outputs": []
    },
    {
      "cell_type": "code",
      "source": [
        "import sklearn.metrics as metrics\n",
        "fpr, tpr, threshold = metrics.roc_curve(actual, final_pred)\n",
        "roc_auc = metrics.auc(fpr, tpr)"
      ],
      "metadata": {
        "id": "8yIH_0GulBPj"
      },
      "execution_count": null,
      "outputs": []
    },
    {
      "cell_type": "code",
      "source": [
        "metrics.confusion_matrix(actual,final_pred)\n"
      ],
      "metadata": {
        "colab": {
          "base_uri": "https://localhost:8080/"
        },
        "id": "rUMy7YLClCaL",
        "outputId": "4987b3bd-c8e0-424f-f62e-b20f59d46101"
      },
      "execution_count": null,
      "outputs": [
        {
          "output_type": "execute_result",
          "data": {
            "text/plain": [
              "array([[  0, 176],\n",
              "       [  0, 176]])"
            ]
          },
          "metadata": {},
          "execution_count": 89
        }
      ]
    },
    {
      "cell_type": "code",
      "source": [
        "plt.title('Receiver Operating Characteristic')\n",
        "plt.plot(fpr, tpr, 'b', label = 'AUC = %0.2f' % roc_auc)\n",
        "plt.legend(loc = 'lower right')\n",
        "plt.plot([0, 1], [0, 1],'r--')\n",
        "plt.xlim([0, 1])\n",
        "plt.ylim([0, 1])\n",
        "plt.ylabel('True Positive Rate')\n",
        "plt.xlabel('False Positive Rate')\n",
        "plt.show()\n"
      ],
      "metadata": {
        "colab": {
          "base_uri": "https://localhost:8080/",
          "height": 295
        },
        "id": "bvrBa6d5lDIj",
        "outputId": "9c5c42cd-a9ac-4de5-c6d6-3437961e3e85"
      },
      "execution_count": null,
      "outputs": [
        {
          "output_type": "display_data",
          "data": {
            "text/plain": [
              "<Figure size 432x288 with 1 Axes>"
            ],
            "image/png": "[encoded data removed]"
          },
          "metadata": {
            "needs_background": "light"
          }
        }
      ]
    },
    {
      "cell_type": "markdown",
      "source": [
        "Video Visualization\n"
      ],
      "metadata": {
        "id": "lt4WBInllGYs"
      }
    },
    {
      "cell_type": "code",
      "source": [
        "from video_utils import *\n",
        "import matplotlib.image as mpimg\n"
      ],
      "metadata": {
        "id": "GK9naVwLlEMz"
      },
      "execution_count": null,
      "outputs": []
    },
    {
      "cell_type": "code",
      "source": [
        "def capture_anomoulus_video_segment(video_path,video_key):\n",
        "    max_processing_sec = 599\n",
        "    sample_every_N_sec = 1\n",
        "    frame_inc=16\n",
        "    num_frames_per_clip = 16\n",
        "    start_frame = 1\n",
        "    \n",
        "   # print(video_key)\n",
        "    fc,fr=get_frame_count(video_path)\n",
        "    \n",
        "    end_frame = min(fc, int(max_processing_sec * fr)) -num_frames_per_clip\n",
        "    \n",
        "    video_feature =get_features_specific_video(video_key,\"./out\",)\n",
        "    pred_a=sess.run(output,feed_dict={x: video_feature})\n",
        "    \n",
        "    #print(pred_a)\n",
        "    \n",
        "    start_frames=list(range(start_frame, end_frame, frame_inc))\n",
        "    \n",
        "    frame_bin=np.round(np.linspace(1, len(start_frames), num=33))\n",
        "    \n",
        "    pred_a=pred_a.flatten()\n",
        "    fb_pre=np.where(pred_a>0.4)[0]\n",
        "    \n",
        "    video_segments=[]\n",
        "    i=0\n",
        "    \n",
        "    #This loop is to locate exactly frame location where anomaly occured\n",
        "    while(i<len(fb_pre)-1):\n",
        "        s_seg=frame_bin[fb_pre[i]]*16\n",
        "        if (fb_pre[i+1] -fb_pre[i] ==1): #diffrenciation \n",
        "            while(i<len(fb_pre)-1 and fb_pre[i+1]-fb_pre[i]==1):\n",
        "                i +=1\n",
        "            #i+=1\n",
        "            e_seg=frame_bin[fb_pre[i]]*16+16\n",
        "        else:\n",
        "            i += 1\n",
        "            e_seg=s_seg+16\n",
        "        video_segments.append([s_seg,e_seg])\n",
        "        \n",
        "    v_map=frame_bin[fb_pre]*16\n",
        "    return video_segments,v_map,pred_a #,p\n"
      ],
      "metadata": {
        "id": "L0DqTbxRlIDj"
      },
      "execution_count": null,
      "outputs": []
    },
    {
      "cell_type": "code",
      "source": [
        "def clip_anoloums_video_from_segment(video_to_extract,video_key,output_vid_dir):\n",
        "    vf,gf,pred_a=capture_anomoulus_video_segment(video_to_extract,video_key)\n",
        "    \n",
        "    #path to store Video segment\n",
        "    path = os.path.join(output_vid_dir,video_key)\n",
        "    os.makedirs(path, exist_ok=True)\n",
        "    \n",
        "    for start, end in vf:\n",
        "        n_frames = int(end-start)\n",
        "        extract_frames(video_to_extract,start,path,n_frames)\n",
        "     \n",
        "    output_video=os.path.join(path,video_key)\n",
        "    if len(vf)>0:\n",
        "        create_video(path,output_video+\".avi\")\n",
        "    \n",
        "    return gf,pred_a\n"
      ],
      "metadata": {
        "id": "JuI7x36mlJP7"
      },
      "execution_count": null,
      "outputs": []
    },
    {
      "cell_type": "markdown",
      "source": [
        "generating video for RoadAccident\n",
        "\n",
        "This solution also includes video and images where exact anomaly happened\n"
      ],
      "metadata": {
        "id": "up2mrRxdlLgz"
      }
    },
    {
      "cell_type": "code",
      "source": [
        "%cd /content/Anomaly-Detection-and-classification-in-surveillance-videos/"
      ],
      "metadata": {
        "colab": {
          "base_uri": "https://localhost:8080/"
        },
        "id": "Te8Vof8blTjD",
        "outputId": "1a2c892d-29d5-4d7b-e83c-ae2690ba2ee1"
      },
      "execution_count": null,
      "outputs": [
        {
          "output_type": "stream",
          "name": "stdout",
          "text": [
            "/content/Anomaly-Detection-and-classification-in-surveillance-videos\n"
          ]
        }
      ]
    },
    {
      "cell_type": "code",
      "source": [
        "!pip uninstall glob2"
      ],
      "metadata": {
        "colab": {
          "base_uri": "https://localhost:8080/"
        },
        "id": "dtdOtfmetIw8",
        "outputId": "b89bd5f6-dda7-4c6d-9f56-ab2cfc0fe222"
      },
      "execution_count": null,
      "outputs": [
        {
          "output_type": "stream",
          "name": "stdout",
          "text": [
            "Found existing installation: glob2 0.7\n",
            "Uninstalling glob2-0.7:\n",
            "  Would remove:\n",
            "    /usr/local/lib/python3.7/dist-packages/glob2-0.7.dist-info/*\n",
            "    /usr/local/lib/python3.7/dist-packages/glob2/*\n",
            "Proceed (y/n)? y\n",
            "  Successfully uninstalled glob2-0.7\n"
          ]
        }
      ]
    },
    {
      "cell_type": "code",
      "source": [
        "%cd /content"
      ],
      "metadata": {
        "colab": {
          "base_uri": "https://localhost:8080/"
        },
        "id": "0JVlYm4buivM",
        "outputId": "778a658a-a94c-4e5c-fad3-2dab77845de7"
      },
      "execution_count": null,
      "outputs": [
        {
          "output_type": "stream",
          "name": "stdout",
          "text": [
            "/content\n"
          ]
        }
      ]
    },
    {
      "cell_type": "code",
      "source": [
        "# Why errors??? Keeping error on glob...\n",
        "# from glob2 import glob\n",
        "# !pip3 install glob2"
      ],
      "metadata": {
        "colab": {
          "base_uri": "https://localhost:8080/",
          "height": 297
        },
        "id": "zTk_HPpLuHFL",
        "outputId": "b5b6e75a-6c60-46ad-fd6e-bc694ae1fcbb"
      },
      "execution_count": null,
      "outputs": [
        {
          "output_type": "stream",
          "name": "stdout",
          "text": [
            "Looking in indexes: https://pypi.org/simple, https://us-python.pkg.dev/colab-wheels/public/simple/\n",
            "Collecting glob2\n",
            "  Downloading glob2-0.7.tar.gz (10 kB)\n",
            "Building wheels for collected packages: glob2\n",
            "  Building wheel for glob2 (setup.py) ... \u001b[?25l\u001b[?25hdone\n",
            "  Created wheel for glob2: filename=glob2-0.7-py2.py3-none-any.whl size=9320 sha256=65a49232c5ba8f75dc3b7c36bfa1ec5a349fe54270576d074d6dae1fdcd987ff\n",
            "  Stored in directory: /root/.cache/pip/wheels/d7/3c/72/5300602ba1269ffce8cff5dcf7b525fee756b57455903c37ba\n",
            "Successfully built glob2\n",
            "Installing collected packages: glob2\n",
            "Successfully installed glob2-0.7\n"
          ]
        },
        {
          "output_type": "display_data",
          "data": {
            "application/vnd.colab-display-data+json": {
              "pip_warning": {
                "packages": [
                  "glob2"
                ]
              }
            }
          },
          "metadata": {}
        }
      ]
    },
    {
      "cell_type": "code",
      "source": [
        "%cd /content/Anomaly-Detection-and-classification-in-surveillance-videos"
      ],
      "metadata": {
        "colab": {
          "base_uri": "https://localhost:8080/"
        },
        "id": "GfGV4Qrku137",
        "outputId": "21477dfa-f9bc-4c0f-c70c-d7c8f936c853"
      },
      "execution_count": null,
      "outputs": [
        {
          "output_type": "stream",
          "name": "stdout",
          "text": [
            "/content/Anomaly-Detection-and-classification-in-surveillance-videos\n"
          ]
        }
      ]
    },
    {
      "cell_type": "code",
      "source": [
        "# Glob error needs to be resolved\n",
        "# from glob2 import glob"
      ],
      "metadata": {
        "id": "75QAmhRFvDUP"
      },
      "execution_count": null,
      "outputs": []
    },
    {
      "cell_type": "code",
      "source": [
        "video_to_extract=\"/content/Anomaly-Detection-and-classification-in-surveillance-videos/data/RoadAccidents095_x264.mp4\""
      ],
      "metadata": {
        "id": "hyB0pFjNlKWb"
      },
      "execution_count": null,
      "outputs": []
    },
    {
      "cell_type": "code",
      "source": [
        "frame_nos, pred_a = clip_anoloums_video_from_segment (video_to_extract, \"RoadAccidents095_x264\", \"./test5\")"
      ],
      "metadata": {
        "colab": {
          "base_uri": "https://localhost:8080/",
          "height": 380
        },
        "id": "YhsiuB9UwWxq",
        "outputId": "c0b656d4-b74a-4099-e2b6-02599dded814"
      },
      "execution_count": null,
      "outputs": [
        {
          "output_type": "stream",
          "name": "stdout",
          "text": [
            "width = 320.0\n",
            "height = 240.0\n"
          ]
        },
        {
          "output_type": "error",
          "ename": "NameError",
          "evalue": "ignored",
          "traceback": [
            "\u001b[0;31m---------------------------------------------------------------------------\u001b[0m",
            "\u001b[0;31mNameError\u001b[0m                                 Traceback (most recent call last)",
            "\u001b[0;32m<ipython-input-164-10d6c46087e4>\u001b[0m in \u001b[0;36m<module>\u001b[0;34m()\u001b[0m\n\u001b[0;32m----> 1\u001b[0;31m \u001b[0mframe_nos\u001b[0m\u001b[0;34m,\u001b[0m \u001b[0mpred_a\u001b[0m \u001b[0;34m=\u001b[0m \u001b[0mclip_anoloums_video_from_segment\u001b[0m \u001b[0;34m(\u001b[0m\u001b[0mvideo_to_extract\u001b[0m\u001b[0;34m,\u001b[0m\u001b[0;34m\"RoadAccidents095_x264\"\u001b[0m\u001b[0;34m,\u001b[0m\u001b[0;34m\"./test5\"\u001b[0m\u001b[0;34m)\u001b[0m\u001b[0;34m\u001b[0m\u001b[0;34m\u001b[0m\u001b[0m\n\u001b[0m",
            "\u001b[0;32m<ipython-input-123-9c82803b241a>\u001b[0m in \u001b[0;36mclip_anoloums_video_from_segment\u001b[0;34m(video_to_extract, video_key, output_vid_dir)\u001b[0m\n\u001b[1;32m     12\u001b[0m     \u001b[0moutput_video\u001b[0m\u001b[0;34m=\u001b[0m\u001b[0mos\u001b[0m\u001b[0;34m.\u001b[0m\u001b[0mpath\u001b[0m\u001b[0;34m.\u001b[0m\u001b[0mjoin\u001b[0m\u001b[0;34m(\u001b[0m\u001b[0mpath\u001b[0m\u001b[0;34m,\u001b[0m\u001b[0mvideo_key\u001b[0m\u001b[0;34m)\u001b[0m\u001b[0;34m\u001b[0m\u001b[0;34m\u001b[0m\u001b[0m\n\u001b[1;32m     13\u001b[0m     \u001b[0;32mif\u001b[0m \u001b[0mlen\u001b[0m\u001b[0;34m(\u001b[0m\u001b[0mvf\u001b[0m\u001b[0;34m)\u001b[0m\u001b[0;34m>\u001b[0m\u001b[0;36m0\u001b[0m\u001b[0;34m:\u001b[0m\u001b[0;34m\u001b[0m\u001b[0;34m\u001b[0m\u001b[0m\n\u001b[0;32m---> 14\u001b[0;31m         \u001b[0mcreate_video\u001b[0m\u001b[0;34m(\u001b[0m\u001b[0mpath\u001b[0m\u001b[0;34m,\u001b[0m\u001b[0moutput_video\u001b[0m\u001b[0;34m+\u001b[0m\u001b[0;34m\".avi\"\u001b[0m\u001b[0;34m)\u001b[0m\u001b[0;34m\u001b[0m\u001b[0;34m\u001b[0m\u001b[0m\n\u001b[0m\u001b[1;32m     15\u001b[0m \u001b[0;34m\u001b[0m\u001b[0m\n\u001b[1;32m     16\u001b[0m     \u001b[0;32mreturn\u001b[0m \u001b[0mgf\u001b[0m\u001b[0;34m,\u001b[0m\u001b[0mpred_a\u001b[0m\u001b[0;34m\u001b[0m\u001b[0;34m\u001b[0m\u001b[0m\n",
            "\u001b[0;32m/content/Anomaly-Detection-and-classification-in-surveillance-videos/video_utils.py\u001b[0m in \u001b[0;36mcreate_video\u001b[0;34m(Image_source, output_video)\u001b[0m\n\u001b[1;32m     69\u001b[0m \u001b[0;34m\u001b[0m\u001b[0m\n\u001b[1;32m     70\u001b[0m \u001b[0;32mdef\u001b[0m \u001b[0mcreate_video\u001b[0m\u001b[0;34m(\u001b[0m\u001b[0mImage_source\u001b[0m\u001b[0;34m,\u001b[0m\u001b[0moutput_video\u001b[0m\u001b[0;34m)\u001b[0m\u001b[0;34m:\u001b[0m\u001b[0;34m\u001b[0m\u001b[0;34m\u001b[0m\u001b[0m\n\u001b[0;32m---> 71\u001b[0;31m     \u001b[0mimg_array\u001b[0m \u001b[0;34m=\u001b[0m \u001b[0;34m[\u001b[0m\u001b[0;34m]\u001b[0m\u001b[0;34m\u001b[0m\u001b[0;34m\u001b[0m\u001b[0m\n\u001b[0m\u001b[1;32m     72\u001b[0m     \u001b[0;32mfor\u001b[0m \u001b[0mfilename\u001b[0m \u001b[0;32min\u001b[0m \u001b[0mglob\u001b[0m\u001b[0;34m.\u001b[0m\u001b[0mglob\u001b[0m\u001b[0;34m(\u001b[0m\u001b[0mImage_source\u001b[0m\u001b[0;34m+\u001b[0m\u001b[0;34m'/*.jpg'\u001b[0m\u001b[0;34m)\u001b[0m\u001b[0;34m:\u001b[0m\u001b[0;34m\u001b[0m\u001b[0;34m\u001b[0m\u001b[0m\n\u001b[1;32m     73\u001b[0m         \u001b[0mimg\u001b[0m \u001b[0;34m=\u001b[0m \u001b[0mcv2\u001b[0m\u001b[0;34m.\u001b[0m\u001b[0mimread\u001b[0m\u001b[0;34m(\u001b[0m\u001b[0mfilename\u001b[0m\u001b[0;34m)\u001b[0m\u001b[0;34m\u001b[0m\u001b[0;34m\u001b[0m\u001b[0m\n",
            "\u001b[0;31mNameError\u001b[0m: name 'glob' is not defined"
          ]
        }
      ]
    },
    {
      "cell_type": "code",
      "source": [
        "plt.plot(pred_a)\n",
        "plt.ylabel('Regression value Between 1 and 0')\n",
        "plt.xlabel('Prediction in 32 embedded frames')"
      ],
      "metadata": {
        "colab": {
          "base_uri": "https://localhost:8080/",
          "height": 200
        },
        "id": "-okD1l3glP1b",
        "outputId": "f6a67c8c-5c82-4785-d019-dd2154436598"
      },
      "execution_count": null,
      "outputs": [
        {
          "output_type": "error",
          "ename": "NameError",
          "evalue": "ignored",
          "traceback": [
            "\u001b[0;31m---------------------------------------------------------------------------\u001b[0m",
            "\u001b[0;31mNameError\u001b[0m                                 Traceback (most recent call last)",
            "\u001b[0;32m<ipython-input-159-8cd4f939e1a9>\u001b[0m in \u001b[0;36m<module>\u001b[0;34m()\u001b[0m\n\u001b[0;32m----> 1\u001b[0;31m \u001b[0mplt\u001b[0m\u001b[0;34m.\u001b[0m\u001b[0mplot\u001b[0m\u001b[0;34m(\u001b[0m\u001b[0mpred_a\u001b[0m\u001b[0;34m)\u001b[0m\u001b[0;34m\u001b[0m\u001b[0;34m\u001b[0m\u001b[0m\n\u001b[0m\u001b[1;32m      2\u001b[0m \u001b[0mplt\u001b[0m\u001b[0;34m.\u001b[0m\u001b[0mylabel\u001b[0m\u001b[0;34m(\u001b[0m\u001b[0;34m'Regression value Between 1 and 0'\u001b[0m\u001b[0;34m)\u001b[0m\u001b[0;34m\u001b[0m\u001b[0;34m\u001b[0m\u001b[0m\n\u001b[1;32m      3\u001b[0m \u001b[0mplt\u001b[0m\u001b[0;34m.\u001b[0m\u001b[0mxlabel\u001b[0m\u001b[0;34m(\u001b[0m\u001b[0;34m'Prediction in 32 embedded frames'\u001b[0m\u001b[0;34m)\u001b[0m\u001b[0;34m\u001b[0m\u001b[0;34m\u001b[0m\u001b[0m\n",
            "\u001b[0;31mNameError\u001b[0m: name 'pred_a' is not defined"
          ]
        }
      ]
    },
    {
      "cell_type": "markdown",
      "source": [
        "Normal Videos are predicted as 0\n"
      ],
      "metadata": {
        "id": "Y2xVpg34x_19"
      }
    },
    {
      "cell_type": "code",
      "source": [
        "plt.plot(pred_a)\n",
        "plt.ylabel('Regression value Between 1 and 0')\n",
        "plt.xlabel('Prediction in 32 embedded frames')"
      ],
      "metadata": {
        "colab": {
          "base_uri": "https://localhost:8080/",
          "height": 200
        },
        "id": "OrIGC2r3vqwT",
        "outputId": "10eed3d4-54f6-418a-9a3d-0e4a37775899"
      },
      "execution_count": null,
      "outputs": [
        {
          "output_type": "error",
          "ename": "NameError",
          "evalue": "ignored",
          "traceback": [
            "\u001b[0;31m---------------------------------------------------------------------------\u001b[0m",
            "\u001b[0;31mNameError\u001b[0m                                 Traceback (most recent call last)",
            "\u001b[0;32m<ipython-input-165-8cd4f939e1a9>\u001b[0m in \u001b[0;36m<module>\u001b[0;34m()\u001b[0m\n\u001b[0;32m----> 1\u001b[0;31m \u001b[0mplt\u001b[0m\u001b[0;34m.\u001b[0m\u001b[0mplot\u001b[0m\u001b[0;34m(\u001b[0m\u001b[0mpred_a\u001b[0m\u001b[0;34m)\u001b[0m\u001b[0;34m\u001b[0m\u001b[0;34m\u001b[0m\u001b[0m\n\u001b[0m\u001b[1;32m      2\u001b[0m \u001b[0mplt\u001b[0m\u001b[0;34m.\u001b[0m\u001b[0mylabel\u001b[0m\u001b[0;34m(\u001b[0m\u001b[0;34m'Regression value Between 1 and 0'\u001b[0m\u001b[0;34m)\u001b[0m\u001b[0;34m\u001b[0m\u001b[0;34m\u001b[0m\u001b[0m\n\u001b[1;32m      3\u001b[0m \u001b[0mplt\u001b[0m\u001b[0;34m.\u001b[0m\u001b[0mxlabel\u001b[0m\u001b[0;34m(\u001b[0m\u001b[0;34m'Prediction in 32 embedded frames'\u001b[0m\u001b[0;34m)\u001b[0m\u001b[0;34m\u001b[0m\u001b[0;34m\u001b[0m\u001b[0m\n",
            "\u001b[0;31mNameError\u001b[0m: name 'pred_a' is not defined"
          ]
        }
      ]
    },
    {
      "cell_type": "code",
      "source": [
        ""
      ],
      "metadata": {
        "id": "USHOQWlNyBQV"
      },
      "execution_count": null,
      "outputs": []
    }
  ]
}